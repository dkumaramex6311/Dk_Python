{
 "cells": [
  {
   "cell_type": "markdown",
   "metadata": {},
   "source": [
    "<font size=\"1\" color=\"blue\">Authors : Utsav Awasthi & Manohar Gandhi<font><br><font size=\"1\" color=\"blue\">Created : June, 2018 <font> \n",
    "<div align=\"center\"> <font size=\"2\" color=\"red\"><b><!--# For Citi Internal training purpose only #--></b></font> </div>"
   ]
  },
  {
   "cell_type": "markdown",
   "metadata": {},
   "source": [
    "<img src = \"https://www.python.org/static/community_logos/python-logo-master-v3-TM.png\" width=\"50%\" height=\"50%\">\n",
    "<div align=\"center\" id=\"contents\"> <font size=\"5\" color=\"orange\"><b>PYTHON PROGRAMMING LANGUAGE</b></font> </div>\n",
    "\n",
    "<div align=\"left\"> <font size=\"4\" color=\"red\"><b>TABLE OF CONTENTS</b></font> </div>\n",
    "<ol type=\"square\">\n",
    "    <li><a href=\"#intro\">Introduction</a></li>\n",
    "    <li><a href=\"#datatype\">Data types and Operations</a></li>\n",
    "    <li><a href=\"#variables\">Variables and Collections</a></li>\n",
    "    <li><a href=\"#control\">Control Flow and Loops</a></li>\n",
    "    <li><a href=\"#functions\">Functions</a></li>\n",
    "    <li><a href=\"#classes\">Classes</a></li>\n",
    "    <li><a href=\"#fileio\">File I/O</a></li>\n",
    "</ol>"
   ]
  },
  {
   "cell_type": "markdown",
   "metadata": {},
   "source": [
    "<div align=\"left\" id=\"intro\"><a href=\"#contents\"><font size=\"4\" color=\"red\"><b>INTRODUCTION</b></font></a></div>\n",
    "<ol type=\"square\">\n",
    "    <li><a href=\"#intro_about\">About Python</a></li>\n",
    "    <li><a href=\"#intro_anaconda\">About Anaconda</a></li>\n",
    "    <li><a href=\"#intro_zen\">The Zen of Python</a></li>\n",
    "    <li><a href=\"#intro_why\">Why Python?</a></li>\n",
    "</ol>"
   ]
  },
  {
   "cell_type": "markdown",
   "metadata": {},
   "source": [
    "<div align=\"left\" id =\"intro_about\"> <a href=\"#intro\"><font size=\"3\" color=\"black\"><b>About Python</b></font></a></div>\n",
    "\n",
    "Python is a programming language created by Guido van Rossum and is quickly becoming the standard in scientific computing. \n",
    "Python is:\n",
    "<ol type=\"square\">\n",
    "    <li>Open source</li>\n",
    "    <li>High level</li>\n",
    "    <li>General purpose</li>\n",
    "    <li>Standardized across Platforms e.g. Windows, iOS, Android, Linux etc</li>\n",
    "    <li>Interpreted</li>\n",
    "    <li>Object Oriented</li>\n",
    "</ol>\n",
    "\n",
    "Furthermore it has huge community support and therefore you can easily find a module/library for both commonly utilized and highly complex tasks too. For Machine Learning tasks the most popular modules are as below:\n",
    "<ul type=\"square\">\n",
    "    <li>NumPy - highly optimized matrix operations</li>\n",
    "    <li>SciPy - contains modules for mathematical/scientific computing</li>\n",
    "    <li>scikit-learn - contains most of common machine learning implementations</li>\n",
    "    <li>Matplotlib - plotting</li>\n",
    "    <li>Pandas - supports relational databases</li>\n",
    "    <li>TensorFlow - created by Google, mainly used for deep learning </li>\n",
    "</ul>\n",
    "\n",
    "And here are the detailed stats of Github activities for all famous machine learning related Python libraries:\n",
    "<img src=\"https://cdn-images-1.medium.com/max/1600/0*jyZHKZohXDgwCFsq.png\" alt=\"Python Github\"></img>"
   ]
  },
  {
   "cell_type": "markdown",
   "metadata": {},
   "source": [
    "### Notes: \n",
    "1a. A high-level language is any programming language that enables development of a program in a much more user-friendly programming context and is generally independent of the computer's hardware architecture.\n",
    "\n",
    "1b. A high-level language has a higher level of abstraction from the computer, and focuses more on the programming logic rather than the underlying hardware components such as memory addressing and register utilization.\n"
   ]
  },
  {
   "cell_type": "markdown",
   "metadata": {},
   "source": [
    "<div align=\"left\" id=\"intro_anaconda\"> <a href=\"#intro\"><font size=\"3\" color=\"black\"><b>About Anaconda</b></font></a></div>\n",
    "\n",
    "Anaconda is a free and open source distribution of the Python and R programming languages for data science and machine learning related applications, that aims to simplify package management and deployment.\n",
    "\n",
    "If you have Anaconda installed on your system, there are three ways you can code in Python :\n",
    "<ol type=\"square\">\n",
    "    <li>Jupyter Notebook - this is what you are using right now</li>\n",
    "    <li>Spyder - If you are comfortable with RStudio, you may want to use this</li> \n",
    "    <li>Anaconda prompt - Write \"python\" without quote, press enter and then you can write your code and run. This is similar to working on Terminal/Tectia</li> \n",
    "</ol>\n",
    "<br> Now lets see which version of Python you are running right now\n",
    "<br>\n",
    "<br>\n",
    "<font size=\"1\">If you do not have Anaconda installed on your system, use  <b>https://repl.it/</b>  to run the codes below<font>"
   ]
  },
  {
   "cell_type": "code",
   "execution_count": 4,
   "metadata": {
    "scrolled": true
   },
   "outputs": [
    {
     "name": "stdout",
     "output_type": "stream",
     "text": [
      "2.7.15 |Anaconda, Inc.| (default, May  1 2018, 18:37:09) [MSC v.1500 64 bit (AMD64)]\n"
     ]
    }
   ],
   "source": [
    "import sys\n",
    "print(sys.version)"
   ]
  },
  {
   "cell_type": "markdown",
   "metadata": {},
   "source": [
    "This notebook has been created with Python 2.x version. If you are running Python 3.x, then you may need to make few minor changes in the code. We will talk about these differences as and when they appear"
   ]
  },
  {
   "cell_type": "markdown",
   "metadata": {},
   "source": [
    "<div align=\"left\" id=\"intro_zen\"><a href=\"#intro\"><font size=\"4\" color=\"black\"><b>The Zen of Python</b></font></a></div>"
   ]
  },
  {
   "cell_type": "code",
   "execution_count": 9,
   "metadata": {},
   "outputs": [],
   "source": [
    "import this"
   ]
  },
  {
   "cell_type": "markdown",
   "metadata": {},
   "source": [
    "<b>The Zen of Python, by Tim Peters</b>\n",
    "<br>\n",
    "<br>Beautiful is better than ugly.\n",
    "<br>Explicit is better than implicit.\n",
    "<br>Simple is better than complex.\n",
    "<br>Complex is better than complicated.\n",
    "<br>Flat is better than nested.\n",
    "<br>Sparse is better than dense.\n",
    "<br>Readability counts.\n",
    "<br>Special cases aren't special enough to break the rules.\n",
    "<br>Although practicality beats purity.\n",
    "<br>Errors should never pass silently.\n",
    "<br>Unless explicitly silenced.\n",
    "<br>In the face of ambiguity, refuse the temptation to guess.\n",
    "<br>There should be one-- and preferably only one --obvious way to do it.\n",
    "<br>Although that way may not be obvious at first unless you're Dutch.\n",
    "<br>Now is better than never.\n",
    "<br>Although never is often better than *right* now.\n",
    "<br>If the implementation is hard to explain, it's a bad idea.\n",
    "<br>If the implementation is easy to explain, it may be a good idea.\n",
    "<br>Namespaces are one honking great idea -- let's do more of those!"
   ]
  },
  {
   "cell_type": "markdown",
   "metadata": {},
   "source": [
    "<div align=\"left\" id =\"intro_why\"> <a href=\"#intro\"><font size=\"3\" color=\"black\"><b>Why Python?</b></font></a></div>"
   ]
  },
  {
   "cell_type": "code",
   "execution_count": 5,
   "metadata": {},
   "outputs": [],
   "source": [
    "import antigravity"
   ]
  },
  {
   "cell_type": "markdown",
   "metadata": {},
   "source": [
    "<div align=\"left\" id=\"datatype\"><a href=\"#contents\"><font size=\"4\" color=\"red\"><b>DATA TYPE AND OPERATIONS</b></font></a></div>\n",
    "<ol type=\"square\">\n",
    "    <li><a href=\"#datatype_mute\">Mutable vs. Immutable</a></li>\n",
    "    <li><a href=\"#datatype_comments\">Comments</a></li>\n",
    "    <li><a href=\"#datatype_primitive\">Primitive Datatypes and Operators</a></li>\n",
    "</ol>"
   ]
  },
  {
   "cell_type": "markdown",
   "metadata": {},
   "source": [
    "<div align=\"left\" id=\"datatype_mute\"><a href=\"#datatype\"><font size=\"3\" color=\"black\"><b>Mutable vs. Immutable</b></font></a></div>"
   ]
  },
  {
   "cell_type": "markdown",
   "metadata": {},
   "source": [
    "Mutable types can have individual items reassigned in place, while immutable types cannot. <br>\n",
    "So as we discussed earlier, a mutable object can change its state or contents and immutable objects cannot. <br>\n",
    "<b>Mutable objects</b>: list, dict, set, byte array<br>\n",
    "<b>Immutable objects</b>: int, float, complex, string, tuple, frozen set [note: immutable version of set], bytes"
   ]
  },
  {
   "cell_type": "markdown",
   "metadata": {},
   "source": [
    "##### Python has five standard data types −\n",
    "\n",
    "    1. Numbers\n",
    "    2. String\n",
    "    3. List\n",
    "    4. Tuple\n",
    "    5. Dictionary\n"
   ]
  },
  {
   "cell_type": "markdown",
   "metadata": {},
   "source": [
    "##### List is a sequence of multiple values. It allows us to store different types of data such as integer, float, string etc."
   ]
  },
  {
   "cell_type": "code",
   "execution_count": 10,
   "metadata": {},
   "outputs": [
    {
     "name": "stdout",
     "output_type": "stream",
     "text": [
      "[1, 2, 3]\n"
     ]
    }
   ],
   "source": [
    "#list is mutable and hence you can change any element you want\n",
    "L = [0,2,3]\n",
    "L[0] = 1\n",
    "print L"
   ]
  },
  {
   "cell_type": "code",
   "execution_count": 11,
   "metadata": {},
   "outputs": [
    {
     "ename": "TypeError",
     "evalue": "'str' object does not support item assignment",
     "output_type": "error",
     "traceback": [
      "\u001b[1;31m---------------------------------------------------------------------------\u001b[0m",
      "\u001b[1;31mTypeError\u001b[0m                                 Traceback (most recent call last)",
      "\u001b[1;32m<ipython-input-11-2b4ec73a8544>\u001b[0m in \u001b[0;36m<module>\u001b[1;34m()\u001b[0m\n\u001b[0;32m      1\u001b[0m \u001b[1;31m#string is not immutable\u001b[0m\u001b[1;33m\u001b[0m\u001b[1;33m\u001b[0m\u001b[0m\n\u001b[0;32m      2\u001b[0m \u001b[0ms\u001b[0m \u001b[1;33m=\u001b[0m \u001b[1;34m'string'\u001b[0m\u001b[1;33m\u001b[0m\u001b[0m\n\u001b[1;32m----> 3\u001b[1;33m \u001b[0ms\u001b[0m\u001b[1;33m[\u001b[0m\u001b[1;36m0\u001b[0m\u001b[1;33m]\u001b[0m \u001b[1;33m=\u001b[0m \u001b[1;34m'o'\u001b[0m \u001b[1;31m#throws error\u001b[0m\u001b[1;33m\u001b[0m\u001b[0m\n\u001b[0m",
      "\u001b[1;31mTypeError\u001b[0m: 'str' object does not support item assignment"
     ]
    }
   ],
   "source": [
    "#string is not immutable\n",
    "s = 'string'\n",
    "s[0] = 'o' #throws error"
   ]
  },
  {
   "cell_type": "markdown",
   "metadata": {},
   "source": [
    "Python creates real copies only if it has to, i.e. if the user, the programmer, explicitly demands it"
   ]
  },
  {
   "cell_type": "code",
   "execution_count": 3,
   "metadata": {},
   "outputs": [
    {
     "name": "stdout",
     "output_type": "stream",
     "text": [
      "x 71997320\n",
      "y 71997320\n",
      "z 71997960\n"
     ]
    }
   ],
   "source": [
    "x=[1,2,5]\n",
    "print \"x\",id(x)\n",
    "y=x\n",
    "print \"y\",id(y)\n",
    "import copy\n",
    "z = copy.copy(x)\n",
    "print \"z\",id(z) "
   ]
  },
  {
   "cell_type": "markdown",
   "metadata": {},
   "source": [
    "If you assign one mutable object to another and then change/edit a value in the first object, the same will be reflected in the second object"
   ]
  },
  {
   "cell_type": "code",
   "execution_count": 15,
   "metadata": {},
   "outputs": [
    {
     "name": "stdout",
     "output_type": "stream",
     "text": [
      "x [1, 2, 4] 73173768 y [1, 2, 4] 73173768\n",
      "x [0, 2, 4] 73173768 y [0, 2, 4] 73173768\n"
     ]
    }
   ],
   "source": [
    "x = [1,2,4]\n",
    "y = x #This just points to the same object i.e. x\n",
    "print \"x\", x, id(x), \"y\", y, id(y) #Ids are same and so are values\n",
    "x[0] = 0\n",
    "print \"x\", x, id(x), \"y\", y, id(y) #changing a value in x, changes it in y too. Ids are same"
   ]
  },
  {
   "cell_type": "markdown",
   "metadata": {},
   "source": [
    "That is not the case with immutable objects because you cannot edit them, just change the value entirely. There are work arounds to copy a mutable object into another without facing the issue discussed above. One such way is as below :"
   ]
  },
  {
   "cell_type": "code",
   "execution_count": 16,
   "metadata": {},
   "outputs": [
    {
     "name": "stdout",
     "output_type": "stream",
     "text": [
      "x [1, 2, 4] 72285256 y [1, 2, 4] 73172424\n",
      "x [0, 2, 4] 72285256 y [1, 2, 4] 73172424\n"
     ]
    }
   ],
   "source": [
    "x = [1,2,4]\n",
    "y = x[:] #Now this won't point to the same object\n",
    "print \"x\", x, id(x), \"y\", y, id(y) #Ids are same and so are values\n",
    "x[0] = 0\n",
    "print \"x\", x, id(x), \"y\", y, id(y) #changing a value in x, changes it in y too. Ids are same"
   ]
  },
  {
   "cell_type": "markdown",
   "metadata": {},
   "source": [
    "<div align=\"left\" id=\"datatype_comments\"><a href=\"#datatype\"><font size=\"3\" color=\"black\"><b>Comments</b></font></a></div>"
   ]
  },
  {
   "cell_type": "code",
   "execution_count": 17,
   "metadata": {
    "scrolled": true
   },
   "outputs": [],
   "source": [
    "# Single line comments start with a number symbol."
   ]
  },
  {
   "cell_type": "code",
   "execution_count": 18,
   "metadata": {
    "scrolled": true
   },
   "outputs": [
    {
     "data": {
      "text/plain": [
       "' Multiline strings can be written\\n    using three \"s, and are often used\\n    as comments\\n'"
      ]
     },
     "execution_count": 18,
     "metadata": {},
     "output_type": "execute_result"
    }
   ],
   "source": [
    "\"\"\" Multiline strings can be written\n",
    "    using three \"s, and are often used\n",
    "    as comments\n",
    "\"\"\""
   ]
  },
  {
   "cell_type": "markdown",
   "metadata": {},
   "source": [
    "<div align=\"left\" id=\"datatype_primitive\"><a href=\"#datatype\"><font size=\"3\" color=\"black\"><b>Primitive Datatypes and Operators</b></font></a></div>"
   ]
  },
  {
   "cell_type": "markdown",
   "metadata": {},
   "source": [
    "Python supports four different numerical types −\n",
    "\n",
    "    int (signed integers)\n",
    "    long (long integers, they can also be represented in octal and hexadecimal)\n",
    "    float (floating point real values)\n",
    "    complex (complex numbers)"
   ]
  },
  {
   "cell_type": "code",
   "execution_count": 19,
   "metadata": {
    "scrolled": true
   },
   "outputs": [
    {
     "data": {
      "text/plain": [
       "3"
      ]
     },
     "execution_count": 19,
     "metadata": {},
     "output_type": "execute_result"
    }
   ],
   "source": [
    "# You have numbers\n",
    "3  "
   ]
  },
  {
   "cell_type": "code",
   "execution_count": 20,
   "metadata": {
    "scrolled": true
   },
   "outputs": [
    {
     "data": {
      "text/plain": [
       "2"
      ]
     },
     "execution_count": 20,
     "metadata": {},
     "output_type": "execute_result"
    }
   ],
   "source": [
    "# Math is what you would expect\n",
    "1 + 1 "
   ]
  },
  {
   "cell_type": "code",
   "execution_count": 21,
   "metadata": {
    "scrolled": true
   },
   "outputs": [
    {
     "data": {
      "text/plain": [
       "7"
      ]
     },
     "execution_count": 21,
     "metadata": {},
     "output_type": "execute_result"
    }
   ],
   "source": [
    "8 - 1 "
   ]
  },
  {
   "cell_type": "code",
   "execution_count": 22,
   "metadata": {
    "scrolled": true
   },
   "outputs": [
    {
     "data": {
      "text/plain": [
       "20"
      ]
     },
     "execution_count": 22,
     "metadata": {},
     "output_type": "execute_result"
    }
   ],
   "source": [
    "10 * 2 "
   ]
  },
  {
   "cell_type": "code",
   "execution_count": 23,
   "metadata": {
    "scrolled": true
   },
   "outputs": [
    {
     "data": {
      "text/plain": [
       "7"
      ]
     },
     "execution_count": 23,
     "metadata": {},
     "output_type": "execute_result"
    }
   ],
   "source": [
    "35 / 5 "
   ]
  },
  {
   "cell_type": "markdown",
   "metadata": {},
   "source": [
    "Division is a bit tricky. It is integer division and floors the results automatically. What do you think this will give?"
   ]
  },
  {
   "cell_type": "code",
   "execution_count": 24,
   "metadata": {
    "scrolled": true
   },
   "outputs": [
    {
     "data": {
      "text/plain": [
       "6"
      ]
     },
     "execution_count": 24,
     "metadata": {},
     "output_type": "execute_result"
    }
   ],
   "source": [
    "#Think what this will give\n",
    "34 / 5"
   ]
  },
  {
   "cell_type": "markdown",
   "metadata": {},
   "source": [
    "In Python 2.x the divison operater gives integer values, in Python 3.x, it gives the correct Float/Real value"
   ]
  },
  {
   "cell_type": "code",
   "execution_count": 25,
   "metadata": {
    "scrolled": true
   },
   "outputs": [
    {
     "data": {
      "text/plain": [
       "2.0"
      ]
     },
     "execution_count": 25,
     "metadata": {},
     "output_type": "execute_result"
    }
   ],
   "source": [
    "# To fix division we need to learn about floats.\n",
    "2.0  # This is a float"
   ]
  },
  {
   "cell_type": "code",
   "execution_count": 26,
   "metadata": {
    "scrolled": true
   },
   "outputs": [
    {
     "data": {
      "text/plain": [
       "6.8"
      ]
     },
     "execution_count": 26,
     "metadata": {},
     "output_type": "execute_result"
    }
   ],
   "source": [
    "34.0 / 5.0  #yayy we fixed it"
   ]
  },
  {
   "cell_type": "markdown",
   "metadata": {},
   "source": [
    "Ahhh...much better. So if you want to force a float division, multiply the terms with 1.0. This comes especially handy while calculating percentages like this -"
   ]
  },
  {
   "cell_type": "code",
   "execution_count": 27,
   "metadata": {
    "scrolled": true
   },
   "outputs": [
    {
     "data": {
      "text/plain": [
       "64.28571428571429"
      ]
     },
     "execution_count": 27,
     "metadata": {},
     "output_type": "execute_result"
    }
   ],
   "source": [
    "#Multiplying by a float number, leads to a float output\n",
    "45*100*1.0/70\n",
    "#or you can do 45.0*100/70"
   ]
  },
  {
   "cell_type": "code",
   "execution_count": 28,
   "metadata": {
    "scrolled": true
   },
   "outputs": [
    {
     "data": {
      "text/plain": [
       "5"
      ]
     },
     "execution_count": 28,
     "metadata": {},
     "output_type": "execute_result"
    }
   ],
   "source": [
    "# Modulo operation\n",
    "20 % 15 "
   ]
  },
  {
   "cell_type": "code",
   "execution_count": 29,
   "metadata": {
    "scrolled": true
   },
   "outputs": [
    {
     "data": {
      "text/plain": [
       "0"
      ]
     },
     "execution_count": 29,
     "metadata": {},
     "output_type": "execute_result"
    }
   ],
   "source": [
    "100%100"
   ]
  },
  {
   "cell_type": "code",
   "execution_count": 30,
   "metadata": {
    "scrolled": true
   },
   "outputs": [
    {
     "data": {
      "text/plain": [
       "16"
      ]
     },
     "execution_count": 30,
     "metadata": {},
     "output_type": "execute_result"
    }
   ],
   "source": [
    "# Exponentiation (x to the yth power)\n",
    "2 ** 4  "
   ]
  },
  {
   "cell_type": "code",
   "execution_count": 31,
   "metadata": {
    "scrolled": true
   },
   "outputs": [
    {
     "data": {
      "text/plain": [
       "9"
      ]
     },
     "execution_count": 31,
     "metadata": {},
     "output_type": "execute_result"
    }
   ],
   "source": [
    "3**2"
   ]
  },
  {
   "cell_type": "code",
   "execution_count": 32,
   "metadata": {
    "scrolled": true
   },
   "outputs": [
    {
     "data": {
      "text/plain": [
       "8"
      ]
     },
     "execution_count": 32,
     "metadata": {},
     "output_type": "execute_result"
    }
   ],
   "source": [
    "# Enforce precedence with parentheses\n",
    "(1 + 3) * 2  # => 8"
   ]
  },
  {
   "cell_type": "markdown",
   "metadata": {},
   "source": [
    "In Python, Boolean values are the two constant objects - False and True"
   ]
  },
  {
   "cell_type": "code",
   "execution_count": 33,
   "metadata": {
    "scrolled": true
   },
   "outputs": [
    {
     "data": {
      "text/plain": [
       "False"
      ]
     },
     "execution_count": 33,
     "metadata": {},
     "output_type": "execute_result"
    }
   ],
   "source": [
    "# Boolean Operators\n",
    "# Note \"and\" and \"or\" are case-sensitive\n",
    "True and False "
   ]
  },
  {
   "cell_type": "code",
   "execution_count": 34,
   "metadata": {
    "scrolled": true
   },
   "outputs": [
    {
     "data": {
      "text/plain": [
       "True"
      ]
     },
     "execution_count": 34,
     "metadata": {},
     "output_type": "execute_result"
    }
   ],
   "source": [
    "False or True  # => True"
   ]
  },
  {
   "cell_type": "markdown",
   "metadata": {},
   "source": [
    "You can use Bool operators with integers too"
   ]
  },
  {
   "cell_type": "code",
   "execution_count": 35,
   "metadata": {
    "scrolled": true
   },
   "outputs": [
    {
     "data": {
      "text/plain": [
       "0"
      ]
     },
     "execution_count": 35,
     "metadata": {},
     "output_type": "execute_result"
    }
   ],
   "source": [
    "#Any 0 value is \"False\". Everything else is \"True\"\n",
    "0 and 2 "
   ]
  },
  {
   "cell_type": "code",
   "execution_count": 36,
   "metadata": {
    "scrolled": true
   },
   "outputs": [
    {
     "data": {
      "text/plain": [
       "-5"
      ]
     },
     "execution_count": 36,
     "metadata": {},
     "output_type": "execute_result"
    }
   ],
   "source": [
    "-5 or 0 "
   ]
  },
  {
   "cell_type": "code",
   "execution_count": 51,
   "metadata": {},
   "outputs": [
    {
     "data": {
      "text/plain": [
       "2"
      ]
     },
     "execution_count": 51,
     "metadata": {},
     "output_type": "execute_result"
    }
   ],
   "source": [
    "2 or -5"
   ]
  },
  {
   "cell_type": "code",
   "execution_count": 52,
   "metadata": {},
   "outputs": [
    {
     "data": {
      "text/plain": [
       "True"
      ]
     },
     "execution_count": 52,
     "metadata": {},
     "output_type": "execute_result"
    }
   ],
   "source": [
    "bool(-3)==True"
   ]
  },
  {
   "cell_type": "code",
   "execution_count": 37,
   "metadata": {
    "scrolled": true
   },
   "outputs": [
    {
     "data": {
      "text/plain": [
       "True"
      ]
     },
     "execution_count": 37,
     "metadata": {},
     "output_type": "execute_result"
    }
   ],
   "source": [
    "0 == False"
   ]
  },
  {
   "cell_type": "code",
   "execution_count": 38,
   "metadata": {
    "scrolled": true
   },
   "outputs": [
    {
     "data": {
      "text/plain": [
       "False"
      ]
     },
     "execution_count": 38,
     "metadata": {},
     "output_type": "execute_result"
    }
   ],
   "source": [
    "2 == True"
   ]
  },
  {
   "cell_type": "code",
   "execution_count": 39,
   "metadata": {
    "scrolled": true
   },
   "outputs": [
    {
     "data": {
      "text/plain": [
       "True"
      ]
     },
     "execution_count": 39,
     "metadata": {},
     "output_type": "execute_result"
    }
   ],
   "source": [
    "1 == True"
   ]
  },
  {
   "cell_type": "code",
   "execution_count": 40,
   "metadata": {
    "scrolled": true
   },
   "outputs": [
    {
     "data": {
      "text/plain": [
       "False"
      ]
     },
     "execution_count": 40,
     "metadata": {},
     "output_type": "execute_result"
    }
   ],
   "source": [
    "# negate with \"not\"\n",
    "not True"
   ]
  },
  {
   "cell_type": "code",
   "execution_count": 41,
   "metadata": {
    "scrolled": true
   },
   "outputs": [
    {
     "data": {
      "text/plain": [
       "True"
      ]
     },
     "execution_count": 41,
     "metadata": {},
     "output_type": "execute_result"
    }
   ],
   "source": [
    "not False"
   ]
  },
  {
   "cell_type": "code",
   "execution_count": 54,
   "metadata": {
    "scrolled": true
   },
   "outputs": [
    {
     "name": "stdout",
     "output_type": "stream",
     "text": [
      "1 == 1 is True\n",
      "2 == 1 is False\n"
     ]
    }
   ],
   "source": [
    "# Equality is ==\n",
    "print \"1 == 1 is\", 1 == 1\n",
    "print \"2 == 1 is\", 2 == 1"
   ]
  },
  {
   "cell_type": "markdown",
   "metadata": {},
   "source": [
    "print is a function in Python 3.x. Functionality is little different, but in most case all you have to do is to put everything after \"print\" in parentheses like this - print(\"1 == 1 is\", 1 == 1)"
   ]
  },
  {
   "cell_type": "code",
   "execution_count": 43,
   "metadata": {
    "scrolled": true
   },
   "outputs": [
    {
     "name": "stdout",
     "output_type": "stream",
     "text": [
      "False\n",
      "True\n"
     ]
    }
   ],
   "source": [
    "# Inequality is !=\n",
    "print 1 != 1  \n",
    "print 2 != 1 "
   ]
  },
  {
   "cell_type": "code",
   "execution_count": 44,
   "metadata": {
    "scrolled": true
   },
   "outputs": [
    {
     "name": "stdout",
     "output_type": "stream",
     "text": [
      "True\n",
      "False\n",
      "True\n",
      "True\n"
     ]
    }
   ],
   "source": [
    "# Some more comparisons\n",
    "print 1 < 10 \n",
    "print 1 > 10  \n",
    "print 2 <= 2 \n",
    "print 2 >= 2  "
   ]
  },
  {
   "cell_type": "code",
   "execution_count": 45,
   "metadata": {
    "scrolled": true
   },
   "outputs": [
    {
     "name": "stdout",
     "output_type": "stream",
     "text": [
      "True\n",
      "False\n"
     ]
    }
   ],
   "source": [
    "# Comparisons can be chained!\n",
    "print 1 < 2 < 3  \n",
    "print 2 < 3 < 2  "
   ]
  },
  {
   "cell_type": "code",
   "execution_count": 46,
   "metadata": {
    "scrolled": true
   },
   "outputs": [
    {
     "name": "stdout",
     "output_type": "stream",
     "text": [
      "This is a string.\n",
      "This is also a string.\n"
     ]
    }
   ],
   "source": [
    "# Strings are created with \" or '\n",
    "print \"This is a string.\"\n",
    "print 'This is also a string.'"
   ]
  },
  {
   "cell_type": "code",
   "execution_count": 47,
   "metadata": {
    "scrolled": true
   },
   "outputs": [
    {
     "name": "stdout",
     "output_type": "stream",
     "text": [
      "Hello\n",
      "World!\n"
     ]
    }
   ],
   "source": [
    "#you can also save strings in a variable\n",
    "a = \"Hello\"\n",
    "b = \"World!\"\n",
    "print a\n",
    "print b"
   ]
  },
  {
   "cell_type": "code",
   "execution_count": 59,
   "metadata": {
    "scrolled": true
   },
   "outputs": [
    {
     "name": "stdout",
     "output_type": "stream",
     "text": [
      "Hello world!\n",
      "Hello world!\n"
     ]
    }
   ],
   "source": [
    "# Strings can be added too!\n",
    "print \"Hello \" + \"world!\"  \n",
    "# Strings can be added without using '+'\n",
    "print \"Hello \" \"world!\""
   ]
  },
  {
   "cell_type": "code",
   "execution_count": 60,
   "metadata": {
    "scrolled": true
   },
   "outputs": [
    {
     "name": "stdout",
     "output_type": "stream",
     "text": [
      "HelloHelloHello\n"
     ]
    }
   ],
   "source": [
    "# ... or multiplied\n",
    "print \"Hello\" * 3"
   ]
  },
  {
   "cell_type": "code",
   "execution_count": 61,
   "metadata": {
    "scrolled": true
   },
   "outputs": [
    {
     "name": "stdout",
     "output_type": "stream",
     "text": [
      "T\n",
      "h\n",
      "g\n",
      "n\n"
     ]
    }
   ],
   "source": [
    "# A string can be treated like a list of characters\n",
    "print \"This is a string\"[0]  \n",
    "print \"This is a string\"[1]  \n",
    "print \"This is a string\"[-1] \n",
    "print \"This is a string\"[-2] "
   ]
  },
  {
   "cell_type": "markdown",
   "metadata": {},
   "source": [
    "Always remember that <b>numbering/indexing in Python starts from 0 and not 1</b>. So to access first element you write [0], for second you write [1], so on and so forth. You can count from back too, in which case the numbering starts from -1 e.g. last element will be [-1], second last will be [-2]"
   ]
  },
  {
   "cell_type": "code",
   "execution_count": 62,
   "metadata": {
    "scrolled": true
   },
   "outputs": [
    {
     "data": {
      "text/plain": [
       "16"
      ]
     },
     "execution_count": 62,
     "metadata": {},
     "output_type": "execute_result"
    }
   ],
   "source": [
    "# You can find the length of a string\n",
    "len(\"This is a string\")"
   ]
  },
  {
   "cell_type": "code",
   "execution_count": 63,
   "metadata": {
    "scrolled": true
   },
   "outputs": [
    {
     "name": "stdout",
     "output_type": "stream",
     "text": [
      "None\n"
     ]
    }
   ],
   "source": [
    "# None is an object\n",
    "print None  "
   ]
  },
  {
   "cell_type": "markdown",
   "metadata": {},
   "source": [
    "Like in SQL you have \"NULL\" and \"NA\" in R, in python a missing element is denoted by None. To compare something with \"None\", you need to use \"is\", not \"==\""
   ]
  },
  {
   "cell_type": "code",
   "execution_count": 64,
   "metadata": {
    "scrolled": true
   },
   "outputs": [
    {
     "name": "stdout",
     "output_type": "stream",
     "text": [
      "False\n",
      "True\n"
     ]
    }
   ],
   "source": [
    "# Don't use the equality \"==\" symbol to compare objects to None\n",
    "# Use \"is\" instead\n",
    "print \"etc\" is None \n",
    "print None is None  "
   ]
  },
  {
   "cell_type": "markdown",
   "metadata": {},
   "source": [
    "<div align=\"left\" id=\"variables\"><a href=\"#contents\"><font size=\"4\" color=\"red\"><b>VARIABLES AND COLLECTIONS</b></font></a></div>\n",
    "<ol type=\"square\">\n",
    "    <li><a href=\"#variables_rules\">Rules and Conventions</a></li>\n",
    "    <li><a href=\"#variables_numbers\">Numbers and strings</a></li>\n",
    "    <li><a href=\"#variables_lists\">Lists</a></li>\n",
    "    <li><a href=\"#variables_tuples\">Tuples</a></li>\n",
    "    <li><a href=\"#variables_dict\">Dictionaries</a></li>\n",
    "    <li><a href=\"#variables_sets\">Sets</a></li>\n",
    "</ol>"
   ]
  },
  {
   "cell_type": "markdown",
   "metadata": {},
   "source": [
    "<div align=\"left\" id=\"variables_rules\"> <a href=\"#variables\"> <font size=\"3\" color=\"black\"><b>The Rules</b></font><a></div>\n",
    "Variables names must start with a letter or an underscore, such as:\n",
    "<ul type=\"square\">\n",
    "    <li>_myvar</li>\n",
    "    <li>myvar&#95;</li>\n",
    "</ul>\n",
    "\n",
    "\n",
    "The remainder of your variable name may consist of letters, numbers and underscores:\n",
    "<ul type=\"square\">\n",
    "    <li>password1</li>\n",
    "    <li>n00b</li>\n",
    "    <li>un_der_scores</li>\n",
    "</ul>\n",
    "\n",
    "\n",
    "Names are case sensitive.:\n",
    "<ul type=\"square\">\n",
    "    <li>case_sensitive, CASE_SENSITIVE, and Case_Sensitive are each a different variable.</li>\n",
    "</ul>\n",
    "\n",
    "<div align=\"left\"> <font size=\"3\" color=\"black\"><b>The Conventions</b></font> </div>\n",
    "Readability is very important. Which of the following is easiest to read? I’m hoping you’ll say the first example:\n",
    "<ul type=\"square\">\n",
    "    <li>python_puppet</li>\n",
    "    <li>pythonpuppet</li>\n",
    "    <li>pythonPuppet</li>\n",
    "</ul>\n",
    "\n",
    "\n",
    "Descriptive names are very useful. If you are writing a program that adds up all of the bad puns made in this book, which do you think is the better variable name?\n",
    "<ul type=\"square\">\n",
    "    <li>total_bad_puns</li>\n",
    "    <li>super_bad</li>\n",
    "</ul>\n",
    "\n",
    "\n",
    "Avoid using the lowercase letter ‘l’, uppercase ‘O’, and uppercase ‘I’. Why? Because the l and the I look a lot like each other and the number 1. And O looks a lot like 0:\n"
   ]
  },
  {
   "cell_type": "markdown",
   "metadata": {},
   "source": [
    "<div align=\"left\"  id=\"variables_numbers\"><a href=\"#variables\"><font size=\"3\" color=\"black\"><b>Numbers and strings</b></font> <a></div>"
   ]
  },
  {
   "cell_type": "code",
   "execution_count": 65,
   "metadata": {
    "scrolled": true
   },
   "outputs": [
    {
     "name": "stdout",
     "output_type": "stream",
     "text": [
      "5\n"
     ]
    }
   ],
   "source": [
    "# No need to declare variables before assigning to them.\n",
    "some_var = 5  \n",
    "print some_var  "
   ]
  },
  {
   "cell_type": "markdown",
   "metadata": {},
   "source": [
    "Unlike some low-level languages like C and Java, there is no need to declare the type of variable in Python.\n",
    "All you have to do is define a variable and assign a value to it. \n",
    "Python will automatically read what kind of variable it is - be it string or integer or float or any other data types that we will discuss below. Examples are as below :"
   ]
  },
  {
   "cell_type": "code",
   "execution_count": 66,
   "metadata": {
    "scrolled": true
   },
   "outputs": [
    {
     "name": "stdout",
     "output_type": "stream",
     "text": [
      "2.35\n",
      "Hi there!\n"
     ]
    }
   ],
   "source": [
    "my_float = 2.35; print my_float\n",
    "my_string = \"Hi there!\"; print my_string"
   ]
  },
  {
   "cell_type": "markdown",
   "metadata": {},
   "source": [
    "<div align=\"left\"  id=\"variables_lists\"><a href=\"#variables\"><font size=\"3\" color=\"black\"><b>Lists</b></font><a></div>"
   ]
  },
  {
   "cell_type": "markdown",
   "metadata": {},
   "source": [
    "Lists are equivalent to arrays in most other programming languages and are used to store sequences"
   ]
  },
  {
   "cell_type": "code",
   "execution_count": 148,
   "metadata": {
    "scrolled": true
   },
   "outputs": [
    {
     "name": "stdout",
     "output_type": "stream",
     "text": [
      "[] [4, 5, 6]\n"
     ]
    }
   ],
   "source": [
    "# Lists store sequences\n",
    "li = []\n",
    "# You can start with a prefilled list\n",
    "other_li = [4, 5, 6]\n",
    "print li, other_li"
   ]
  },
  {
   "cell_type": "code",
   "execution_count": 149,
   "metadata": {
    "scrolled": true
   },
   "outputs": [
    {
     "name": "stdout",
     "output_type": "stream",
     "text": [
      "[1, 'a', 'Python', 1.25]\n"
     ]
    }
   ],
   "source": [
    "#A list can contain anything e.g numbers along with strings etc\n",
    "my_list = [1, \"a\", \"Python\", 1.25]\n",
    "print my_list"
   ]
  },
  {
   "cell_type": "code",
   "execution_count": 150,
   "metadata": {
    "scrolled": true
   },
   "outputs": [
    {
     "name": "stdout",
     "output_type": "stream",
     "text": [
      "[1, 2, 4, 3]\n"
     ]
    }
   ],
   "source": [
    "# Add stuff to the end of a list with append\n",
    "li.append(1) \n",
    "li.append(2) \n",
    "li.append(4)  \n",
    "li.append(3)  \n",
    "print li"
   ]
  },
  {
   "cell_type": "code",
   "execution_count": 151,
   "metadata": {
    "scrolled": true
   },
   "outputs": [
    {
     "name": "stdout",
     "output_type": "stream",
     "text": [
      "[1, 2, 4]\n"
     ]
    }
   ],
   "source": [
    "# Remove from the end with pop, follows the LIFO\n",
    "li.pop()  \n",
    "print li"
   ]
  },
  {
   "cell_type": "code",
   "execution_count": 152,
   "metadata": {
    "scrolled": true
   },
   "outputs": [
    {
     "name": "stdout",
     "output_type": "stream",
     "text": [
      "[1, 2, 4, 3]\n"
     ]
    }
   ],
   "source": [
    "# Let's put it back\n",
    "li.append(3)  \n",
    "print li"
   ]
  },
  {
   "cell_type": "code",
   "execution_count": 153,
   "metadata": {
    "scrolled": true
   },
   "outputs": [
    {
     "name": "stdout",
     "output_type": "stream",
     "text": [
      "1\n",
      "2\n",
      "3\n"
     ]
    }
   ],
   "source": [
    "# Access a list like you would any array\n",
    "print li[0]  \n",
    "print li[1]\n",
    "print li[-1]"
   ]
  },
  {
   "cell_type": "markdown",
   "metadata": {},
   "source": [
    "As I said, numbering in Python starts from 0, NOT 1"
   ]
  },
  {
   "cell_type": "code",
   "execution_count": 154,
   "metadata": {
    "scrolled": true
   },
   "outputs": [
    {
     "name": "stdout",
     "output_type": "stream",
     "text": [
      "[42, 2, 4, 3]\n",
      "4\n"
     ]
    }
   ],
   "source": [
    "# Assign new values to indexes that have already been initialized with =\n",
    "li[0] = 42\n",
    "print li\n",
    "# redefine the list and you will gwt the list of list \n",
    "li = [[1,2],[3,4]]  # Note: setting it back to the original value\n",
    "print (li[1][1])"
   ]
  },
  {
   "cell_type": "code",
   "execution_count": 155,
   "metadata": {
    "scrolled": true
   },
   "outputs": [
    {
     "data": {
      "text/plain": [
       "[3, 4]"
      ]
     },
     "execution_count": 155,
     "metadata": {},
     "output_type": "execute_result"
    }
   ],
   "source": [
    "# Look at the last element\n",
    "li[-1]  # => 3"
   ]
  },
  {
   "cell_type": "code",
   "execution_count": 156,
   "metadata": {},
   "outputs": [
    {
     "name": "stdout",
     "output_type": "stream",
     "text": [
      "[[1, 2], [3, 4], [5, 9]]\n",
      "[[1, 2], [3, 4], [5, 9], [7, 8]]\n"
     ]
    }
   ],
   "source": [
    "li.append([5,9])\n",
    "print li\n",
    "li.append([7,8])\n",
    "print li"
   ]
  },
  {
   "cell_type": "code",
   "execution_count": 157,
   "metadata": {
    "scrolled": true
   },
   "outputs": [
    {
     "ename": "IndexError",
     "evalue": "list index out of range",
     "output_type": "error",
     "traceback": [
      "\u001b[1;31m---------------------------------------------------------------------------\u001b[0m",
      "\u001b[1;31mIndexError\u001b[0m                                Traceback (most recent call last)",
      "\u001b[1;32m<ipython-input-157-273e009d759c>\u001b[0m in \u001b[0;36m<module>\u001b[1;34m()\u001b[0m\n\u001b[0;32m      1\u001b[0m \u001b[1;31m# Looking out of bounds is an IndexError\u001b[0m\u001b[1;33m\u001b[0m\u001b[1;33m\u001b[0m\u001b[0m\n\u001b[1;32m----> 2\u001b[1;33m \u001b[0mli\u001b[0m\u001b[1;33m[\u001b[0m\u001b[1;36m20\u001b[0m\u001b[1;33m]\u001b[0m  \u001b[1;31m# Raises an IndexError\u001b[0m\u001b[1;33m\u001b[0m\u001b[0m\n\u001b[0m",
      "\u001b[1;31mIndexError\u001b[0m: list index out of range"
     ]
    }
   ],
   "source": [
    "# Looking out of bounds is an IndexError\n",
    "li[20]  # Raises an IndexError"
   ]
  },
  {
   "cell_type": "code",
   "execution_count": 158,
   "metadata": {},
   "outputs": [
    {
     "name": "stdout",
     "output_type": "stream",
     "text": [
      "([3, 4], [5, 9])\n"
     ]
    }
   ],
   "source": [
    "print (li[1],li[2])"
   ]
  },
  {
   "cell_type": "code",
   "execution_count": 159,
   "metadata": {
    "scrolled": true
   },
   "outputs": [
    {
     "data": {
      "text/plain": [
       "[[3, 4], [5, 9]]"
      ]
     },
     "execution_count": 159,
     "metadata": {},
     "output_type": "execute_result"
    }
   ],
   "source": [
    "# You can look at ranges with slice syntax.\n",
    "# (It's a closed/open range for you mathy types.)\n",
    "li[1:3]  "
   ]
  },
  {
   "cell_type": "markdown",
   "metadata": {},
   "source": [
    "Slicing works like this - If you have <b>li[a:b:c]</b>, you will get all the values <b> starting from location \"a\" to location ending at \"b-1\" (i.e.NOT b) with a jump of \"c\" units</b>. Here are some examples"
   ]
  },
  {
   "cell_type": "markdown",
   "metadata": {},
   "source": [
    "The values stored in a list can be accessed using the slice operator ([ ] and [:]) with indexes starting at 0 in the beginning of the list and working their way to end -1."
   ]
  },
  {
   "cell_type": "code",
   "execution_count": 1,
   "metadata": {
    "scrolled": true
   },
   "outputs": [
    {
     "ename": "NameError",
     "evalue": "name 'li' is not defined",
     "output_type": "error",
     "traceback": [
      "\u001b[1;31m---------------------------------------------------------------------------\u001b[0m",
      "\u001b[1;31mNameError\u001b[0m                                 Traceback (most recent call last)",
      "\u001b[1;32m<ipython-input-1-c76684f6ab31>\u001b[0m in \u001b[0;36m<module>\u001b[1;34m()\u001b[0m\n\u001b[1;32m----> 1\u001b[1;33m \u001b[1;32mprint\u001b[0m \u001b[0mli\u001b[0m\u001b[1;33m[\u001b[0m\u001b[1;33m:\u001b[0m\u001b[1;33m]\u001b[0m\u001b[1;33m\u001b[0m\u001b[0m\n\u001b[0m\u001b[0;32m      2\u001b[0m \u001b[1;32mprint\u001b[0m \u001b[1;34m\"li[2:] is \"\u001b[0m\u001b[1;33m,\u001b[0m \u001b[0mli\u001b[0m\u001b[1;33m[\u001b[0m\u001b[1;36m2\u001b[0m\u001b[1;33m:\u001b[0m\u001b[1;33m]\u001b[0m  \u001b[1;31m# => [4, 3]\u001b[0m\u001b[1;33m\u001b[0m\u001b[0m\n\u001b[0;32m      3\u001b[0m \u001b[1;31m# Omit the end\u001b[0m\u001b[1;33m\u001b[0m\u001b[1;33m\u001b[0m\u001b[0m\n\u001b[0;32m      4\u001b[0m \u001b[1;32mprint\u001b[0m \u001b[1;34m\"li[:3] is \"\u001b[0m\u001b[1;33m,\u001b[0m\u001b[0mli\u001b[0m\u001b[1;33m[\u001b[0m\u001b[1;33m:\u001b[0m\u001b[1;36m3\u001b[0m\u001b[1;33m]\u001b[0m  \u001b[1;31m# => [1, 2, 4]\u001b[0m\u001b[1;33m\u001b[0m\u001b[0m\n\u001b[0;32m      5\u001b[0m \u001b[1;31m# Select every second entry\u001b[0m\u001b[1;33m\u001b[0m\u001b[1;33m\u001b[0m\u001b[0m\n",
      "\u001b[1;31mNameError\u001b[0m: name 'li' is not defined"
     ]
    }
   ],
   "source": [
    "print li[:]\n",
    "print \"li[2:] is \", li[2:]  # => [4, 3]\n",
    "# Omit the end\n",
    "print \"li[:3] is \",li[:3]  # => [1, 2, 4]\n",
    "# Select every second entry\n",
    "print \"li[::2] is \",li[::2]  # =>[1, 4]\n",
    "# Reverse a copy of the list\n",
    "print \"li[::-1] is \",li[::-1]  # => [3, 4, 2, 1]\n",
    "# Use any combination of these to make advanced slices\n",
    "# li[start:end:step]"
   ]
  },
  {
   "cell_type": "markdown",
   "metadata": {},
   "source": [
    "We encourage you to play around with different combinations of a,b, and c(i.e. start, end, and step) to get comfortable with the notation. They also work the same with strings. for example :"
   ]
  },
  {
   "cell_type": "code",
   "execution_count": 161,
   "metadata": {
    "scrolled": true
   },
   "outputs": [
    {
     "name": "stdout",
     "output_type": "stream",
     "text": [
      "Hello World! [2:] is =>  llo World!\n",
      "Hello World![:3] is =>  Hel\n",
      "Hello World![::2] is =>  HloWrd\n",
      "Hello World![::-1] is =>  !dlroW olleH\n"
     ]
    }
   ],
   "source": [
    "print \"Hello World! [2:] is => \", \"Hello World!\"[2:] \n",
    "# Omit the end\n",
    "print \"Hello World![:3] is => \",\"Hello World!\"[:3]  \n",
    "# Select every second entry\n",
    "print \"Hello World![::2] is => \",\"Hello World!\"[::2] \n",
    "# Reverse a copy of the list\n",
    "print \"Hello World![::-1] is => \",\"Hello World!\"[::-1] "
   ]
  },
  {
   "cell_type": "code",
   "execution_count": 162,
   "metadata": {
    "scrolled": true
   },
   "outputs": [
    {
     "name": "stdout",
     "output_type": "stream",
     "text": [
      "[[1, 2], [3, 4], [7, 8]]\n"
     ]
    }
   ],
   "source": [
    "# Remove arbitrary elements from a list with \"del\", i.e. with location\n",
    "del li[2]  \n",
    "print li"
   ]
  },
  {
   "cell_type": "code",
   "execution_count": 163,
   "metadata": {
    "scrolled": true
   },
   "outputs": [
    {
     "data": {
      "text/plain": [
       "[[1, 2], [3, 4], [7, 8], 4, 5, 6]"
      ]
     },
     "execution_count": 163,
     "metadata": {},
     "output_type": "execute_result"
    }
   ],
   "source": [
    "# You can add lists\n",
    "li + other_li"
   ]
  },
  {
   "cell_type": "code",
   "execution_count": 164,
   "metadata": {
    "scrolled": true
   },
   "outputs": [
    {
     "name": "stdout",
     "output_type": "stream",
     "text": [
      "[[1, 2], [3, 4], [7, 8], 4, 5, 6]\n"
     ]
    }
   ],
   "source": [
    "# Concatenate lists with \"extend()\"\n",
    "li.extend(other_li) # Now li is [1, 2, 3, 4, 5, 6]\n",
    "print li\n",
    "# Note: values for li and for other_li are not modified."
   ]
  },
  {
   "cell_type": "code",
   "execution_count": 165,
   "metadata": {
    "scrolled": true
   },
   "outputs": [
    {
     "name": "stdout",
     "output_type": "stream",
     "text": [
      "[[3, 4], [7, 8], 4, 5, 6]\n"
     ]
    },
    {
     "ename": "ValueError",
     "evalue": "list.remove(x): x not in list",
     "output_type": "error",
     "traceback": [
      "\u001b[1;31m---------------------------------------------------------------------------\u001b[0m",
      "\u001b[1;31mValueError\u001b[0m                                Traceback (most recent call last)",
      "\u001b[1;32m<ipython-input-165-f80d1077cb87>\u001b[0m in \u001b[0;36m<module>\u001b[1;34m()\u001b[0m\n\u001b[0;32m      2\u001b[0m \u001b[0mli\u001b[0m\u001b[1;33m.\u001b[0m\u001b[0mremove\u001b[0m\u001b[1;33m(\u001b[0m\u001b[1;33m[\u001b[0m\u001b[1;36m1\u001b[0m\u001b[1;33m,\u001b[0m\u001b[1;36m2\u001b[0m\u001b[1;33m]\u001b[0m\u001b[1;33m)\u001b[0m  \u001b[1;31m# li is now [1, 3, 4, 5, 6]\u001b[0m\u001b[1;33m\u001b[0m\u001b[0m\n\u001b[0;32m      3\u001b[0m \u001b[1;32mprint\u001b[0m \u001b[0mli\u001b[0m\u001b[1;33m\u001b[0m\u001b[0m\n\u001b[1;32m----> 4\u001b[1;33m \u001b[0mli\u001b[0m\u001b[1;33m.\u001b[0m\u001b[0mremove\u001b[0m\u001b[1;33m(\u001b[0m\u001b[1;33m[\u001b[0m\u001b[1;36m1\u001b[0m\u001b[1;33m,\u001b[0m\u001b[1;36m2\u001b[0m\u001b[1;33m]\u001b[0m\u001b[1;33m)\u001b[0m  \u001b[1;31m# Raises a ValueError as 2 is not in the list\u001b[0m\u001b[1;33m\u001b[0m\u001b[0m\n\u001b[0m\u001b[0;32m      5\u001b[0m \u001b[1;32mprint\u001b[0m \u001b[0mli\u001b[0m\u001b[1;33m\u001b[0m\u001b[0m\n",
      "\u001b[1;31mValueError\u001b[0m: list.remove(x): x not in list"
     ]
    }
   ],
   "source": [
    "# Remove first occurrence of a value\n",
    "li.remove([1,2])  # li is now [1, 3, 4, 5, 6]\n",
    "print li\n",
    "li.remove([1,2])  # Raises a ValueError as 2 is not in the list\n",
    "print li"
   ]
  },
  {
   "cell_type": "code",
   "execution_count": 166,
   "metadata": {
    "scrolled": true
   },
   "outputs": [
    {
     "name": "stdout",
     "output_type": "stream",
     "text": [
      "[[1, 2], [3, 4], [7, 8], 4, 5, 6]\n"
     ]
    }
   ],
   "source": [
    "# Insert an element at a specific index\n",
    "li.insert(0, [1,2])  # li is now [1, 2, 3, 4, 5, 6] again\n",
    "print li"
   ]
  },
  {
   "cell_type": "code",
   "execution_count": 169,
   "metadata": {
    "scrolled": true
   },
   "outputs": [
    {
     "name": "stdout",
     "output_type": "stream",
     "text": [
      "2\n"
     ]
    }
   ],
   "source": [
    "# Get the index of the first item found\n",
    "print li.index([7,8])  # give 1 and not 2, why? because numbering starts from 0\n",
    "# print li.index(7)  # Raises a ValueError as 7 is not in the list"
   ]
  },
  {
   "cell_type": "code",
   "execution_count": 66,
   "metadata": {
    "scrolled": true
   },
   "outputs": [
    {
     "name": "stdout",
     "output_type": "stream",
     "text": [
      "True\n",
      "False\n"
     ]
    }
   ],
   "source": [
    "# Check for existence in a list with \"in\"\n",
    "print 1 in li \n",
    "print 8 in li "
   ]
  },
  {
   "cell_type": "code",
   "execution_count": 170,
   "metadata": {
    "scrolled": true
   },
   "outputs": [
    {
     "data": {
      "text/plain": [
       "6"
      ]
     },
     "execution_count": 170,
     "metadata": {},
     "output_type": "execute_result"
    }
   ],
   "source": [
    "# Examine the length with \"len()\"\n",
    "len(li)"
   ]
  },
  {
   "cell_type": "code",
   "execution_count": 171,
   "metadata": {},
   "outputs": [],
   "source": [
    "#matrix can be thought of list of lists i.e. each row as list and then list of rows\n",
    "my_matrix = [[1,2,3],[4,5,6]] #2x3 matrix"
   ]
  },
  {
   "cell_type": "markdown",
   "metadata": {},
   "source": [
    "<div align=\"left\"  id=\"variables_tuples\"><a href=\"#variables\"><font size=\"3\" color=\"black\"><b>Tuples</b></font></a></div>\n",
    "A tuple is a sequence of immutable Python objects. Tuples are sequences, just like lists. The differences between tuples and lists are, the tuples cannot be changed unlike lists and tuples use parentheses, whereas lists use square brackets."
   ]
  },
  {
   "cell_type": "code",
   "execution_count": 69,
   "metadata": {
    "scrolled": true
   },
   "outputs": [
    {
     "name": "stdout",
     "output_type": "stream",
     "text": [
      "1\n"
     ]
    },
    {
     "ename": "TypeError",
     "evalue": "'tuple' object does not support item assignment",
     "output_type": "error",
     "traceback": [
      "\u001b[0;31m---------------------------------------------------------------------------\u001b[0m",
      "\u001b[0;31mTypeError\u001b[0m                                 Traceback (most recent call last)",
      "\u001b[0;32m<ipython-input-69-650f1eed2102>\u001b[0m in \u001b[0;36m<module>\u001b[0;34m()\u001b[0m\n\u001b[1;32m      2\u001b[0m \u001b[0mtup\u001b[0m \u001b[1;33m=\u001b[0m \u001b[1;33m(\u001b[0m\u001b[1;36m1\u001b[0m\u001b[1;33m,\u001b[0m \u001b[1;36m2\u001b[0m\u001b[1;33m,\u001b[0m \u001b[1;36m3\u001b[0m\u001b[1;33m)\u001b[0m\u001b[1;33m\u001b[0m\u001b[0m\n\u001b[1;32m      3\u001b[0m \u001b[1;32mprint\u001b[0m \u001b[0mtup\u001b[0m\u001b[1;33m[\u001b[0m\u001b[1;36m0\u001b[0m\u001b[1;33m]\u001b[0m\u001b[1;33m\u001b[0m\u001b[0m\n\u001b[0;32m----> 4\u001b[0;31m \u001b[0mtup\u001b[0m\u001b[1;33m[\u001b[0m\u001b[1;36m0\u001b[0m\u001b[1;33m]\u001b[0m \u001b[1;33m=\u001b[0m \u001b[1;36m3\u001b[0m  \u001b[1;31m# Raises a TypeError\u001b[0m\u001b[1;33m\u001b[0m\u001b[0m\n\u001b[0m",
      "\u001b[0;31mTypeError\u001b[0m: 'tuple' object does not support item assignment"
     ]
    }
   ],
   "source": [
    "# Tuples are like lists but are immutable.\n",
    "tup = (1, 2, 3)\n",
    "print tup[0]  \n",
    "tup[0] = 3  # Raises a TypeError"
   ]
  },
  {
   "cell_type": "code",
   "execution_count": 70,
   "metadata": {
    "scrolled": true
   },
   "outputs": [
    {
     "name": "stdout",
     "output_type": "stream",
     "text": [
      "3\n",
      "(1, 2, 3, 4, 5, 6)\n",
      "(1, 2)\n",
      "True\n"
     ]
    }
   ],
   "source": [
    "# You can do all those list thingies on tuples too\n",
    "print len(tup)  # => 3\n",
    "print tup + (4, 5, 6)  # => (1, 2, 3, 4, 5, 6)\n",
    "print tup[:2]  # => (1, 2)\n",
    "print 2 in tup  # => True"
   ]
  },
  {
   "cell_type": "code",
   "execution_count": 71,
   "metadata": {
    "scrolled": true
   },
   "outputs": [
    {
     "name": "stdout",
     "output_type": "stream",
     "text": [
      "a = 1\n",
      "Rest values are 2 3 4 5 6\n"
     ]
    }
   ],
   "source": [
    "# You can unpack tuples (or lists) into variables\n",
    "a, b, c = (1, 2, 3)  # a is now 1, b is now 2 and c is now 3\n",
    "d, e, f = 4, 5, 6  # you can leave out the parentheses\n",
    "print \"a =\", a\n",
    "print \"Rest values are\", b, c, d, e, f"
   ]
  },
  {
   "cell_type": "code",
   "execution_count": 72,
   "metadata": {
    "scrolled": true
   },
   "outputs": [
    {
     "name": "stdout",
     "output_type": "stream",
     "text": [
      "(4, 5, 6)\n"
     ]
    }
   ],
   "source": [
    "# Tuples are created by default if you leave out the parentheses\n",
    "g = 4, 5, 6 \n",
    "print g"
   ]
  },
  {
   "cell_type": "code",
   "execution_count": 73,
   "metadata": {
    "scrolled": true
   },
   "outputs": [],
   "source": [
    "# Now look how easy it is to swap two values\n",
    "e, d = d, e  # d is now 5 and e is now 4"
   ]
  },
  {
   "cell_type": "markdown",
   "metadata": {},
   "source": [
    "Python! Its magic!"
   ]
  },
  {
   "cell_type": "markdown",
   "metadata": {},
   "source": [
    "<div align=\"left\"  id=\"variables_dict\"><a href=\"#variables\"><font size=\"3\" color=\"black\"><b>Dictionaries</b></font></a></div>\n",
    "A dictionary is an associative array (also known as hashes). Any key of the dictionary is associated (or mapped) to a value. The values of a dictionary can be any Python data type. So dictionaries are unordered key-value-pairs"
   ]
  },
  {
   "cell_type": "code",
   "execution_count": 8,
   "metadata": {
    "scrolled": true
   },
   "outputs": [
    {
     "name": "stdout",
     "output_type": "stream",
     "text": [
      "{}\n",
      "{'three': 3, 'two': 2, 'one': 1}\n"
     ]
    }
   ],
   "source": [
    "# Dictionaries store mappings\n",
    "empty_dict = {}\n",
    "# Here is a prefilled dictionary\n",
    "filled_dict = {\"one\": 1, \"two\": 2, \"three\": 3}\n",
    "print empty_dict\n",
    "print filled_dict"
   ]
  },
  {
   "cell_type": "code",
   "execution_count": 15,
   "metadata": {},
   "outputs": [
    {
     "name": "stdout",
     "output_type": "stream",
     "text": [
      "{'chris': 637, 'stewart': 921, 'david': 504}\n"
     ]
    }
   ],
   "source": [
    "#Another way\n",
    "keys = ['david', 'chris', 'stewart']\n",
    "values = [504, 637, 921]\n",
    "D = dict(zip(keys, values))\n",
    "print D"
   ]
  },
  {
   "cell_type": "markdown",
   "metadata": {},
   "source": [
    "You can see that unlike in lists or tuples, the values inside dictionary are not ordered "
   ]
  },
  {
   "cell_type": "code",
   "execution_count": 10,
   "metadata": {
    "scrolled": true
   },
   "outputs": [
    {
     "name": "stdout",
     "output_type": "stream",
     "text": [
      "1\n"
     ]
    }
   ],
   "source": [
    "# Look up values with []\n",
    "print filled_dict[\"one\"]  "
   ]
  },
  {
   "cell_type": "code",
   "execution_count": 11,
   "metadata": {
    "scrolled": true
   },
   "outputs": [
    {
     "data": {
      "text/plain": [
       "['three', 'two', 'one']"
      ]
     },
     "execution_count": 11,
     "metadata": {},
     "output_type": "execute_result"
    }
   ],
   "source": [
    "# Get all keys as a list with \"keys()\"\n",
    "filled_dict.keys()  # => [\"three\", \"two\", \"one\"]\n",
    "# Note - Dictionary key ordering is not guaranteed.\n",
    "# Your results might not match this exactly."
   ]
  },
  {
   "cell_type": "code",
   "execution_count": 12,
   "metadata": {
    "scrolled": true
   },
   "outputs": [
    {
     "data": {
      "text/plain": [
       "[3, 2, 1]"
      ]
     },
     "execution_count": 12,
     "metadata": {},
     "output_type": "execute_result"
    }
   ],
   "source": [
    "# Get all values as a list with \"values()\"\n",
    "filled_dict.values()  # => [3, 2, 1]\n",
    "# Note - Same as above regarding key ordering."
   ]
  },
  {
   "cell_type": "code",
   "execution_count": 13,
   "metadata": {
    "scrolled": true
   },
   "outputs": [
    {
     "data": {
      "text/plain": [
       "[('three', 3), ('two', 2), ('one', 1)]"
      ]
     },
     "execution_count": 13,
     "metadata": {},
     "output_type": "execute_result"
    }
   ],
   "source": [
    "# Get all key-value pairs as a list of tuples with \"items()\"\n",
    "filled_dict.items()"
   ]
  },
  {
   "cell_type": "code",
   "execution_count": 80,
   "metadata": {
    "scrolled": true
   },
   "outputs": [
    {
     "name": "stdout",
     "output_type": "stream",
     "text": [
      "True\n",
      "False\n"
     ]
    }
   ],
   "source": [
    "# Check for existence of keys in a dictionary with \"in\"\n",
    "print \"one\" in filled_dict \n",
    "print 1 in filled_dict #-----------------------ask "
   ]
  },
  {
   "cell_type": "code",
   "execution_count": 14,
   "metadata": {
    "scrolled": true
   },
   "outputs": [
    {
     "ename": "KeyError",
     "evalue": "'four'",
     "output_type": "error",
     "traceback": [
      "\u001b[1;31m---------------------------------------------------------------------------\u001b[0m",
      "\u001b[1;31mKeyError\u001b[0m                                  Traceback (most recent call last)",
      "\u001b[1;32m<ipython-input-14-cb12f64af50d>\u001b[0m in \u001b[0;36m<module>\u001b[1;34m()\u001b[0m\n\u001b[0;32m      1\u001b[0m \u001b[1;31m# Looking up a non-existing key is a KeyError\u001b[0m\u001b[1;33m\u001b[0m\u001b[1;33m\u001b[0m\u001b[0m\n\u001b[1;32m----> 2\u001b[1;33m \u001b[0mfilled_dict\u001b[0m\u001b[1;33m[\u001b[0m\u001b[1;34m\"four\"\u001b[0m\u001b[1;33m]\u001b[0m\u001b[1;33m\u001b[0m\u001b[0m\n\u001b[0m",
      "\u001b[1;31mKeyError\u001b[0m: 'four'"
     ]
    }
   ],
   "source": [
    "# Looking up a non-existing key is a KeyError\n",
    "filled_dict[\"four\"]"
   ]
  },
  {
   "cell_type": "code",
   "execution_count": 82,
   "metadata": {
    "scrolled": true
   },
   "outputs": [
    {
     "name": "stdout",
     "output_type": "stream",
     "text": [
      "1\n",
      "None\n",
      "1\n",
      "Not Found\n"
     ]
    }
   ],
   "source": [
    "# Use \"get()\" method to avoid the KeyError\n",
    "print filled_dict.get(\"one\")  # => 1\n",
    "print filled_dict.get(\"four\")  # => None\n",
    "# The get method supports a default argument when the value is missing\n",
    "print filled_dict.get(\"one\", \"Not Found\")  # => 1\n",
    "print filled_dict.get(\"four\", \"Not Found\")  # => 4\n",
    "# note that filled_dict.get(\"four\") is still => None\n",
    "# (get doesn't set the value in the dictionary)"
   ]
  },
  {
   "cell_type": "code",
   "execution_count": 83,
   "metadata": {
    "scrolled": true
   },
   "outputs": [
    {
     "name": "stdout",
     "output_type": "stream",
     "text": [
      "{'four': 4, 'three': 3, 'two': 2, 'one': 1}\n"
     ]
    }
   ],
   "source": [
    "# set the value of a key with a syntax similar to lists\n",
    "filled_dict[\"four\"] = 4 \n",
    "print filled_dict"
   ]
  },
  {
   "cell_type": "code",
   "execution_count": 84,
   "metadata": {
    "scrolled": true
   },
   "outputs": [
    {
     "name": "stdout",
     "output_type": "stream",
     "text": [
      "{'four': 4, 'three': 3, 'five': 5, 'two': 2, 'one': 1}\n",
      "{'four': 4, 'three': 3, 'five': 5, 'two': 2, 'one': 1}\n"
     ]
    }
   ],
   "source": [
    "# \"setdefault()\" inserts into a dictionary only if the given key isn't present\n",
    "filled_dict.setdefault(\"five\", 5) # filled_dict[\"five\"] is set to 5\n",
    "print filled_dict\n",
    "filled_dict.setdefault(\"five\", 6) # filled_dict[\"five\"] is still 5\n",
    "print filled_dict"
   ]
  },
  {
   "cell_type": "code",
   "execution_count": 142,
   "metadata": {},
   "outputs": [
    {
     "name": "stdout",
     "output_type": "stream",
     "text": [
      "4\n"
     ]
    }
   ],
   "source": [
    "print(max(1,2,3,4))"
   ]
  },
  {
   "cell_type": "code",
   "execution_count": 8,
   "metadata": {},
   "outputs": [
    {
     "name": "stdout",
     "output_type": "stream",
     "text": [
      "c\n",
      "('c', {'maths': 48179.48333333334, 'phy': 12.95495652953303, 'che': 3719})\n"
     ]
    }
   ],
   "source": [
    "dict = {'class':{'a': {'phy': 10.58568297387339,\n",
    "                 'che': 1901,\n",
    "                 'maths': 20123.383333333313},\n",
    "             'b': {'phy': 12.25947507658035,\n",
    "                 'che': 2394,\n",
    "                 'maths': 29349.183333333356},\n",
    "             'c': {'phy': 12.95495652953303,\n",
    "                 'che': 3719,\n",
    "                 'maths': 48179.48333333334}}}\n",
    "\n",
    "print(max(dict[\"class\"].items(), key=lambda x: x[1]['phy'])[0])\n",
    "print(max(dict[\"class\"].items(), key=lambda x: x[1]['phy'])[0],max(dict[\"class\"].items(), key=lambda x: x[1]['phy'])[1])"
   ]
  },
  {
   "cell_type": "code",
   "execution_count": 17,
   "metadata": {},
   "outputs": [
    {
     "ename": "KeyError",
     "evalue": "0",
     "output_type": "error",
     "traceback": [
      "\u001b[1;31m---------------------------------------------------------------------------\u001b[0m",
      "\u001b[1;31mKeyError\u001b[0m                                  Traceback (most recent call last)",
      "\u001b[1;32m<ipython-input-17-16bbc76dc002>\u001b[0m in \u001b[0;36m<module>\u001b[1;34m()\u001b[0m\n\u001b[0;32m     11\u001b[0m \u001b[0mphy_maxm\u001b[0m\u001b[1;33m=\u001b[0m\u001b[1;36m0\u001b[0m\u001b[1;33m\u001b[0m\u001b[0m\n\u001b[0;32m     12\u001b[0m \u001b[1;32mfor\u001b[0m \u001b[0mi\u001b[0m \u001b[1;32min\u001b[0m \u001b[0mrange\u001b[0m\u001b[1;33m(\u001b[0m\u001b[0mlen\u001b[0m\u001b[1;33m(\u001b[0m\u001b[0mdict\u001b[0m\u001b[1;33m.\u001b[0m\u001b[0mkeys\u001b[0m\u001b[1;33m(\u001b[0m\u001b[1;33m)\u001b[0m\u001b[1;33m)\u001b[0m\u001b[1;33m)\u001b[0m\u001b[1;33m:\u001b[0m\u001b[1;33m\u001b[0m\u001b[0m\n\u001b[1;32m---> 13\u001b[1;33m     \u001b[1;32mprint\u001b[0m\u001b[1;33m(\u001b[0m\u001b[0mdict\u001b[0m\u001b[1;33m[\u001b[0m\u001b[0mi\u001b[0m\u001b[1;33m]\u001b[0m\u001b[1;33m.\u001b[0m\u001b[0mitems\u001b[0m\u001b[1;33m(\u001b[0m\u001b[1;33m)\u001b[0m\u001b[1;33m)\u001b[0m\u001b[1;33m\u001b[0m\u001b[0m\n\u001b[0m\u001b[0;32m     14\u001b[0m \u001b[1;31m#     print val\u001b[0m\u001b[1;33m\u001b[0m\u001b[1;33m\u001b[0m\u001b[0m\n\u001b[0;32m     15\u001b[0m \u001b[1;33m\u001b[0m\u001b[0m\n",
      "\u001b[1;31mKeyError\u001b[0m: 0"
     ]
    }
   ],
   "source": [
    "dict = {'a': {'phy': 10.58568297387339,\n",
    "                 'che': 1901,\n",
    "                 'maths': 20123.383333333313},\n",
    "             'b': {'phy': 12.25947507658035,\n",
    "                 'che': 2394,\n",
    "                 'maths': 29349.183333333356},\n",
    "             'c': {'phy': 12.95495652953303,\n",
    "                 'che': 3719,\n",
    "                 'maths': 48179.48333333334}}\n",
    "\n",
    "phy_maxm=0\n",
    "name=['a','b','c']\n",
    "for i in range(len(dict.keys())):\n",
    "    val=(dict.items()[i])\n",
    "    name=(dict.\n",
    "    if (dict.items()[i])\n",
    "    \n",
    "\n",
    "\n",
    "print"
   ]
  },
  {
   "cell_type": "code",
   "execution_count": 32,
   "metadata": {},
   "outputs": [
    {
     "name": "stdout",
     "output_type": "stream",
     "text": [
      "10.5856829739\n"
     ]
    }
   ],
   "source": [
    "val=(dict['a'].values()[1])\n",
    "print val"
   ]
  },
  {
   "cell_type": "markdown",
   "metadata": {},
   "source": [
    "<div align=\"left\"  id=\"variables_sets\"><a href=\"#variables\"> <font size=\"3\" color=\"black\"><b>Sets</b></font></a></div>\n",
    "A Set is an unordered collection data type that is iterable, mutable, and has no duplicate elements"
   ]
  },
  {
   "cell_type": "code",
   "execution_count": 85,
   "metadata": {
    "scrolled": true
   },
   "outputs": [
    {
     "name": "stdout",
     "output_type": "stream",
     "text": [
      "set([])\n",
      "set([1, 2, 3, 4])\n"
     ]
    }
   ],
   "source": [
    "# Sets store ... well sets (which are like lists but can contain no duplicates)\n",
    "empty_set = set()\n",
    "print empty_set\n",
    "# Initialize a \"set()\" with a bunch of values\n",
    "some_set = set([1, 2, 2, 3, 4])\n",
    "print some_set\n",
    "#The second 2 was ignored"
   ]
  },
  {
   "cell_type": "code",
   "execution_count": 86,
   "metadata": {
    "scrolled": true
   },
   "outputs": [
    {
     "name": "stdout",
     "output_type": "stream",
     "text": [
      "set([1, 2, 3, 4])\n"
     ]
    }
   ],
   "source": [
    "# order is not guaranteed, even though it may sometimes look sorted\n",
    "another_set = set([4, 3, 2, 2, 1])  # another_set is now set([1, 2, 3, 4])\n",
    "print another_set"
   ]
  },
  {
   "cell_type": "code",
   "execution_count": 87,
   "metadata": {
    "scrolled": true
   },
   "outputs": [
    {
     "name": "stdout",
     "output_type": "stream",
     "text": [
      "set([1, 2, 3, 4, 5])\n"
     ]
    }
   ],
   "source": [
    "# Since Python 2.7, {} can be used to declare a set\n",
    "filled_set = {1, 2, 2, 3, 4}  # => {1, 2, 3, 4}\n",
    "\n",
    "# Add more items to a set\n",
    "another_set.add(5)\n",
    "print another_set"
   ]
  },
  {
   "cell_type": "markdown",
   "metadata": {},
   "source": [
    "Just like in Maths, you can perform normal set operations on sets in Python. This is not that important for us, just good to know"
   ]
  },
  {
   "cell_type": "code",
   "execution_count": 88,
   "metadata": {
    "scrolled": true
   },
   "outputs": [
    {
     "name": "stdout",
     "output_type": "stream",
     "text": [
      "set([3, 4, 5])\n",
      "set([1, 2, 3, 4, 5, 6])\n",
      "set([1, 4])\n",
      "set([1, 4, 5])\n",
      "False\n",
      "True\n"
     ]
    }
   ],
   "source": [
    "# Do set intersection with &\n",
    "other_set = {3, 4, 5, 6}\n",
    "print another_set & other_set \n",
    "\n",
    "# Do set union with |\n",
    "print another_set | other_set  \n",
    "\n",
    "# Do set difference with -\n",
    "print {1, 2, 3, 4} - {2, 3, 5}  \n",
    "\n",
    "# Do set symmetric difference with ^\n",
    "print {1, 2, 3, 4} ^ {2, 3, 5}  \n",
    "\n",
    "# Check if set on the left is a superset of set on the right\n",
    "print {1, 2} >= {1, 2, 3}  \n",
    "\n",
    "# Check if set on the left is a subset of set on the right\n",
    "print {1, 2} <= {1, 2, 3} "
   ]
  },
  {
   "cell_type": "code",
   "execution_count": 89,
   "metadata": {
    "scrolled": true
   },
   "outputs": [
    {
     "name": "stdout",
     "output_type": "stream",
     "text": [
      "True\n",
      "False\n",
      "True\n"
     ]
    }
   ],
   "source": [
    "# Check for existence in a set with in\n",
    "print 2 in filled_set  # => True\n",
    "print 10 in filled_set  # => False\n",
    "print 10 not in filled_set # => True"
   ]
  },
  {
   "cell_type": "code",
   "execution_count": 90,
   "metadata": {
    "scrolled": true
   },
   "outputs": [
    {
     "name": "stdout",
     "output_type": "stream",
     "text": [
      "<type 'list'>\n",
      "<type 'dict'>\n",
      "<type 'int'>\n"
     ]
    }
   ],
   "source": [
    "# Check data type of variable\n",
    "print type(li)   \n",
    "print type(filled_dict)  \n",
    "print type(5)  "
   ]
  },
  {
   "cell_type": "markdown",
   "metadata": {},
   "source": [
    "You can perform some sensible type conversions easily using int(), str(), float() etc functions"
   ]
  },
  {
   "cell_type": "code",
   "execution_count": 91,
   "metadata": {
    "scrolled": true
   },
   "outputs": [
    {
     "name": "stdout",
     "output_type": "stream",
     "text": [
      "float(my_int) = 1.0\n",
      "str(my_int) = 1\n",
      "int(my_float) = 1\n",
      "str(my_float) = 1.25\n"
     ]
    }
   ],
   "source": [
    "#Converting type of variables\n",
    "my_int = 1\n",
    "my_float = 1.25\n",
    "print \"float(my_int) =\", float(my_int)\n",
    "print \"str(my_int) =\", str(my_int)\n",
    "print \"int(my_float) =\", int(my_float)\n",
    "print \"str(my_float) =\", str(my_float)"
   ]
  },
  {
   "cell_type": "markdown",
   "metadata": {},
   "source": [
    "<div align=\"left\" id=\"control\"><a href=\"#contents\"><font size=\"4\" color=\"red\"><b>CONTROL FLOW AND LOOPS</b></font></a></div>\n",
    "<ol type=\"square\">\n",
    "    <li><a href=\"#control_indent\">Indentation</a></li>\n",
    "    <li><a href=\"#control_indent\">If, elif and else</a></li>\n",
    "    <li><a href=\"#control_for\">'for' loops</a></li>\n",
    "    <li><a href=\"#control_while\">'while' loops</a></li>\n",
    "    <li><a href=\"#control_except\">Exception Handling</a></li>\n",
    "</ol>"
   ]
  },
  {
   "cell_type": "markdown",
   "metadata": {},
   "source": [
    "<div align=\"left\" id=\"control_indent\"><a href=\"#control\"><font size=\"3\" color=\"black\"><b>Indentation</b></font></a></div>\n",
    "Python uses indentation instead of braces to structure its programs and scripts into blocks. Indentation is very important aspect of Python and needs to be strictly adhered to while defining scope of different parts of the code\n",
    "\n",
    "<div align=\"left\" id=\"control_indent\"> <font size=\"3\" color=\"black\"><b>If, elif and else</b></font> </div>\n",
    "if. elif and else are used to execute the statements conditionally. "
   ]
  },
  {
   "cell_type": "code",
   "execution_count": 92,
   "metadata": {
    "scrolled": true
   },
   "outputs": [
    {
     "name": "stdout",
     "output_type": "stream",
     "text": [
      "some_var is smaller than 10.\n"
     ]
    }
   ],
   "source": [
    "some_var = 5\n",
    "\n",
    "# Here is an if statement. Indentation is significant in python!\n",
    "if some_var > 10:\n",
    "    print \"some_var is totally bigger than 10.\"\n",
    "elif some_var < 10:  # This elif clause is optional.\n",
    "    print \"some_var is smaller than 10.\"\n",
    "else:  # This is optional too.\n",
    "    print \"some_var is indeed 10.\""
   ]
  },
  {
   "cell_type": "code",
   "execution_count": 7,
   "metadata": {},
   "outputs": [
    {
     "name": "stdout",
     "output_type": "stream",
     "text": [
      "45 is the largest among all\n"
     ]
    }
   ],
   "source": [
    "# find the larget among all\n",
    "mylist=[20,30,45]\n",
    "\n",
    "if mylist[0]>mylist[1] and mylist[0]>mylist[2]:\n",
    "    print mylist[0], \"is bigger\"\n",
    "elif mylist[1]>mylist[0] and mylist[1]>mylist[2]:\n",
    "    print mylist[1], \"is bigger\"\n",
    "else:\n",
    "    print mylist[2], \"is the largest among all\""
   ]
  },
  {
   "cell_type": "code",
   "execution_count": 93,
   "metadata": {},
   "outputs": [
    {
     "name": "stdout",
     "output_type": "stream",
     "text": [
      "Whoops!\n",
      "It worked!\n"
     ]
    }
   ],
   "source": [
    "name = \"Guido\"\n",
    "if name == \"Guido\" and 4<2 and 2 in [1,2]:\n",
    "    print \"It worked!\"\n",
    "else:\n",
    "    print \"Whoops!\"\n",
    "    \n",
    "if name == \"Guido\" and 4<2 or 2 in [1,2]:\n",
    "    print \"It worked!\"\n",
    "else:\n",
    "    print \"Whoops!\""
   ]
  },
  {
   "cell_type": "markdown",
   "metadata": {},
   "source": [
    "<div align=\"left\" id=\"control_for\"><a href=\"#control\"><font size=\"3\" color=\"black\"><b>'for' loops</b></font></a></div>\n",
    "The for loop  is used to iterate over elements of a sequence, it is often \n",
    "used when you have a piece of code which you want to repeat \"n\" number of times. The syntax looks like this:\n",
    "\n",
    "<i>for element in some_sequence:<br>\n",
    "&nbsp;&nbsp;&nbsp;&nbsp;#do something here</i>\n",
    "    \n",
    "Again, indentation is very important here"
   ]
  },
  {
   "cell_type": "code",
   "execution_count": 94,
   "metadata": {
    "scrolled": true
   },
   "outputs": [
    {
     "name": "stdout",
     "output_type": "stream",
     "text": [
      "1\n",
      "2\n",
      "3\n",
      "4\n",
      "dog\n",
      "cat\n",
      "mouse\n"
     ]
    }
   ],
   "source": [
    "#for loop examples\n",
    "#looping using element\n",
    "a = [1,2,3,4]\n",
    "for i in a:\n",
    "    print i\n",
    "for animal in [\"dog\", \"cat\", \"mouse\"]:\n",
    "    print animal"
   ]
  },
  {
   "cell_type": "code",
   "execution_count": 95,
   "metadata": {
    "scrolled": true
   },
   "outputs": [
    {
     "name": "stdout",
     "output_type": "stream",
     "text": [
      "1\n",
      "2\n",
      "3\n",
      "4\n",
      "dog\n",
      "cat\n",
      "mouse\n"
     ]
    }
   ],
   "source": [
    "#looping with location\n",
    "for i in range(len(a)):\n",
    "    print a[i]\n",
    "for loc in range(len([\"dog\", \"cat\", \"mouse\"])):\n",
    "    print [\"dog\", \"cat\", \"mouse\"][loc]"
   ]
  },
  {
   "cell_type": "code",
   "execution_count": 96,
   "metadata": {
    "scrolled": true
   },
   "outputs": [
    {
     "name": "stdout",
     "output_type": "stream",
     "text": [
      "H\n",
      "e\n",
      "l\n",
      "l\n",
      "o\n",
      " \n",
      "W\n",
      "o\n",
      "r\n",
      "l\n",
      "d\n",
      "!\n"
     ]
    }
   ],
   "source": [
    "#Can be used with strings also\n",
    "#looping with location\n",
    "for character in \"Hello World!\":\n",
    "    print character"
   ]
  },
  {
   "cell_type": "code",
   "execution_count": 97,
   "metadata": {},
   "outputs": [
    {
     "name": "stdout",
     "output_type": "stream",
     "text": [
      "1\n",
      "3\n",
      "5\n"
     ]
    }
   ],
   "source": [
    "#for loop with if----------UNDERSTAND THIS ONE \n",
    "for i in range(10):\n",
    "    if i%2==0:\n",
    "        continue #continue forces the loop to continue with the next iteration\n",
    "    if i%7==0:\n",
    "        break #break forces loop to break\n",
    "    print i"
   ]
  },
  {
   "cell_type": "code",
   "execution_count": 98,
   "metadata": {},
   "outputs": [
    {
     "name": "stdout",
     "output_type": "stream",
     "text": [
      "Printing by value\n",
      "1 2 3 \n",
      "\n",
      "4 5 6 \n",
      "\n",
      "Printing by location\n",
      "1 2 3 \n",
      "\n",
      "4 5 6 \n",
      "\n"
     ]
    }
   ],
   "source": [
    "#nested loop to print matrix-----UDERSTAND THIS ONE \n",
    "my_matrix = [[1, 2, 3],[4, 5, 6]]\n",
    "print \"Printing by value\"\n",
    "for row in my_matrix:\n",
    "    for col in row:\n",
    "        print col,\n",
    "    print \"\\n\" #scope of this print is inside of the first for loop\n",
    "print \"Printing by location\"\n",
    "for row in range(len(my_matrix)):\n",
    "    for col in range(len(my_matrix[row])):\n",
    "        print my_matrix[row][col],\n",
    "    print \"\\n\""
   ]
  },
  {
   "cell_type": "markdown",
   "metadata": {},
   "source": [
    "\"range(number)\" returns a list of numbers from zero to the given number.<br>\n",
    "\"range(lower, upper)\" returns a list of numbers from the lower number to the upper number minus one.<br>\n",
    "This is exactly like what we do with lists li[a:b:c]. Just that instead of colon, we use a comma.\n",
    "Here are some examples -"
   ]
  },
  {
   "cell_type": "code",
   "execution_count": 99,
   "metadata": {
    "scrolled": true
   },
   "outputs": [
    {
     "name": "stdout",
     "output_type": "stream",
     "text": [
      "[0, 1, 2, 3, 4]\n",
      "[1, 2, 3, 4, 5]\n",
      "[1, 3, 5]\n"
     ]
    }
   ],
   "source": [
    "#range is an important function to generate arrays of integers\n",
    "print range(5)\n",
    "print range(1,6)\n",
    "print range(1,6,2)"
   ]
  },
  {
   "cell_type": "markdown",
   "metadata": {},
   "source": [
    "<div align=\"left\" id = \"control_while\"><a href=\"#control\"><font size=\"3\" color=\"black\"><b>While loops</b></font></a></div>\n",
    "The while loop tells the computer to do something as long as the condition is met. Its construct consists of a block of code and a condition. The condition is evaluated, and if the condition is true, the code within the block is executed. This repeats until the condition becomes false. The syntax looks like this:\n",
    "\n",
    "<i>while condition:<br>\n",
    "&nbsp;&nbsp;&nbsp;&nbsp;#do something here</i>\n",
    "    \n",
    "Again, indentation is very important here"
   ]
  },
  {
   "cell_type": "code",
   "execution_count": 100,
   "metadata": {
    "scrolled": true
   },
   "outputs": [
    {
     "name": "stdout",
     "output_type": "stream",
     "text": [
      "0\n",
      "1\n",
      "2\n",
      "3\n"
     ]
    }
   ],
   "source": [
    "#while loop example\n",
    "x = 0\n",
    "while x < 4:\n",
    "    print x\n",
    "    x += 1 #  += is equivalent to x = x+1"
   ]
  },
  {
   "cell_type": "markdown",
   "metadata": {},
   "source": [
    "<div align=\"left\" id=\"control_except\"><a href=\"#control\"><font size=\"3\" color=\"black\"><b>Exception handling</b></font></a></div>\n",
    "\n",
    "<b>What is an Exception?</b><br>\n",
    "An exception is an error that happens during execution of a program. When that\n",
    "error occurs, Python generate an exception that can be handled, which avoids your\n",
    "program to crash.<br>\n",
    "<br>\n",
    "<b>Why use Exceptions?</b><br>\n",
    "Exceptions are convenient in many ways for handling errors and special conditions\n",
    "in a program. When you think that you have a code which can produce an error then\n",
    "you can use exception handling.<br>\n",
    "<br>\n",
    "<b>Raising an Exception</b><br>\n",
    "You can raise an exception in your own program by using the raise exception\n",
    "statement. Raising an exception breaks current code execution and returns the exception\n",
    "back until it is handled.<br>\n",
    "<br>\n",
    "<b>Exception Errors</b><br>\n",
    "Below is some common exceptions errors in Python:<br>\n",
    "\n",
    "<b>IOError</b> : If the file cannot be opened.<br>\n",
    "\n",
    "<b>ImportError</b> : If python cannot find the module<br>\n",
    "\n",
    "<b>ValueError</b> : Raised when a built-in operation or function receives an argument that has the right type but an inappropriate value<br>\n",
    "\n",
    "<b>KeyboardInterrupt</b> : Raised when the user hits the interrupt key (normally Control-C or Delete)<br>\n",
    "\n",
    "<b>EOFError</b> : Raised when one of the built-in functions (input() or raw_input()) hits an end-of-file condition (EOF) without reading any data<br>"
   ]
  },
  {
   "cell_type": "code",
   "execution_count": 101,
   "metadata": {
    "scrolled": true
   },
   "outputs": [
    {
     "name": "stdout",
     "output_type": "stream",
     "text": [
      "We can clean up resources here\n"
     ]
    }
   ],
   "source": [
    "# Works on Python 2.6 and up:\n",
    "try:\n",
    "    # Use \"raise\" to raise an error\n",
    "    raise IndexError(\"This is an index error\")\n",
    "except IndexError as e:\n",
    "    pass  # Pass is just a no-op. Usually you would do recovery here.\n",
    "except (TypeError, NameError):\n",
    "    pass  # Multiple exceptions can be handled together, if required.\n",
    "else:  # Optional clause to the try/except block. Must follow all except blocks\n",
    "    print \"All good!\"  # Runs only if the code in try raises no exceptions\n",
    "finally:  # Execute under all circumstances\n",
    "    print \"We can clean up resources here\""
   ]
  },
  {
   "cell_type": "markdown",
   "metadata": {},
   "source": [
    "That was little complicated and advanced. For now here is a simple example:"
   ]
  },
  {
   "cell_type": "code",
   "execution_count": 102,
   "metadata": {
    "scrolled": true
   },
   "outputs": [
    {
     "name": "stdout",
     "output_type": "stream",
     "text": [
      "Please enter a number: 1\n"
     ]
    }
   ],
   "source": [
    "#A simpler example\n",
    "n = int(raw_input(\"Please enter a number: \")) #raw_input is used to take input from user\n",
    "#When it asks, enter \"abc\""
   ]
  },
  {
   "cell_type": "markdown",
   "metadata": {},
   "source": [
    "raw_input() is input() in Python 3.x"
   ]
  },
  {
   "cell_type": "code",
   "execution_count": 103,
   "metadata": {
    "scrolled": true
   },
   "outputs": [
    {
     "name": "stdout",
     "output_type": "stream",
     "text": [
      "Please enter an integer: 1\n",
      "Great, you successfully entered an integer!\n"
     ]
    }
   ],
   "source": [
    "#So it raised an error because you were trying to input a string, while the program was expecting integer\n",
    "#here is how you fix it\n",
    "while True:\n",
    "    try:\n",
    "        n = raw_input(\"Please enter an integer: \")\n",
    "        n = int(n)\n",
    "        break\n",
    "    except ValueError:\n",
    "        print(\"No valid integer! Please try again ...\")\n",
    "print \"Great, you successfully entered an integer!\""
   ]
  },
  {
   "cell_type": "markdown",
   "metadata": {},
   "source": [
    "<div align=\"left\" id=\"functions\"><a href=\"#contents\"><font size=\"4\" color=\"red\"><b>FUNCTIONS</b></font></a></div>\n",
    "<ol type=\"square\">\n",
    "    <li><a href=\"#functions_built\">Built-in Functions</a></li>\n",
    "    <li><a href=\"#functions_methods\">Methods</a></li>\n",
    "    <li><a href=\"#functions_import\">Importing Functions</a></li>\n",
    "    <li><a href=\"#functions_user\">User-defined Functions</a></li>\n",
    "    <li><a href=\"#functions_scope\">Scope of Variables</a></li>\n",
    "    <li><a href=\"#functions_lambda\">Lambda, Map, Reduce, and Filter</a></li>\n",
    "    <li><a href=\"#functions_list\">List Comprehension</a></li>\n",
    "</ol>"
   ]
  },
  {
   "cell_type": "markdown",
   "metadata": {},
   "source": [
    "A function is a block of organized, reusable code that is used to perform a single, related action. Functions provide better modularity for your application and a high degree of code reusing."
   ]
  },
  {
   "cell_type": "markdown",
   "metadata": {},
   "source": [
    "<div align=\"left\" id=\"functions_built\"><a href=\"#functions\"><font size=\"3\" color=\"black\"><b>Built-in Functions</b></font></a> </div>\n",
    "Python has some built-in functions that are available  to use without importing any module e.g. len(), raw_input(), int(), str(), range() etc. Few of these you have already used above, here are some more examples :"
   ]
  },
  {
   "cell_type": "code",
   "execution_count": 104,
   "metadata": {
    "scrolled": true
   },
   "outputs": [
    {
     "name": "stdout",
     "output_type": "stream",
     "text": [
      "abs(-1) = 1\n"
     ]
    }
   ],
   "source": [
    "print \"abs(-1) =\", abs(-1)"
   ]
  },
  {
   "cell_type": "code",
   "execution_count": 105,
   "metadata": {
    "scrolled": true
   },
   "outputs": [
    {
     "name": "stdout",
     "output_type": "stream",
     "text": [
      "[1, 2, 3]\n"
     ]
    }
   ],
   "source": [
    "#converts tuples to list\n",
    "print list({1,2,3})"
   ]
  },
  {
   "cell_type": "code",
   "execution_count": 106,
   "metadata": {
    "scrolled": true
   },
   "outputs": [
    {
     "name": "stdout",
     "output_type": "stream",
     "text": [
      "9\n"
     ]
    }
   ],
   "source": [
    "#returns x to the power of y\n",
    "print(pow(3,2))"
   ]
  },
  {
   "cell_type": "code",
   "execution_count": 107,
   "metadata": {
    "scrolled": true
   },
   "outputs": [
    {
     "name": "stdout",
     "output_type": "stream",
     "text": [
      "10\n"
     ]
    }
   ],
   "source": [
    "#Add items of an Iterable\n",
    "print sum([1,2,3,4])"
   ]
  },
  {
   "cell_type": "code",
   "execution_count": 108,
   "metadata": {
    "scrolled": true
   },
   "outputs": [
    {
     "name": "stdout",
     "output_type": "stream",
     "text": [
      "4\n"
     ]
    }
   ],
   "source": [
    "#max of items of an Iterable\n",
    "print max((1,2,3,4,0))"
   ]
  },
  {
   "cell_type": "code",
   "execution_count": 109,
   "metadata": {
    "scrolled": true
   },
   "outputs": [
    {
     "name": "stdout",
     "output_type": "stream",
     "text": [
      "Help on built-in function len in module __builtin__:\n",
      "\n",
      "len(...)\n",
      "    len(object) -> integer\n",
      "    \n",
      "    Return the number of items of a sequence or collection.\n",
      "\n"
     ]
    }
   ],
   "source": [
    "#Invokes the built-in Help System\n",
    "help(len)"
   ]
  },
  {
   "cell_type": "markdown",
   "metadata": {},
   "source": [
    "You can find more built-in functions on Google or <a ref =\"https://www.programiz.com/python-programming/methods/built-in\">here</a>"
   ]
  },
  {
   "cell_type": "markdown",
   "metadata": {},
   "source": [
    "<div align=\"left\" id=\"functions_methods\"><a href=\"#functions\"><font size=\"3\" color=\"black\"><b>Methods</b></font></a></div>\n",
    "A method is a piece of code that is called by name that is associated with an object.In most respects it is identical to a function except for two key differences:\n",
    "<ul>\n",
    "    <li>A method is implicitly passed the object on which it was called.</li>\n",
    "    <li>A method is able to operate on data that is contained within the class</li>\n",
    "</ul><br>\n",
    "We will explain objects and classes later. Lets see some example of methods :"
   ]
  },
  {
   "cell_type": "code",
   "execution_count": 110,
   "metadata": {
    "scrolled": true
   },
   "outputs": [
    {
     "name": "stdout",
     "output_type": "stream",
     "text": [
      "[6, 2, 4, 7, 5]\n"
     ]
    }
   ],
   "source": [
    "#List Methods\n",
    "my_list = [6, 2, 4, 7]\n",
    "my_list.append(5)\n",
    "print my_list"
   ]
  },
  {
   "cell_type": "code",
   "execution_count": 111,
   "metadata": {
    "scrolled": true
   },
   "outputs": [
    {
     "name": "stdout",
     "output_type": "stream",
     "text": [
      "[2, 4, 5, 6, 7]\n"
     ]
    }
   ],
   "source": [
    "my_list.sort()\n",
    "print my_list"
   ]
  },
  {
   "cell_type": "code",
   "execution_count": 112,
   "metadata": {
    "scrolled": true
   },
   "outputs": [
    {
     "name": "stdout",
     "output_type": "stream",
     "text": [
      "[7, 6, 5, 4, 2]\n"
     ]
    }
   ],
   "source": [
    "my_list.sort(reverse=True)\n",
    "print my_list"
   ]
  },
  {
   "cell_type": "markdown",
   "metadata": {},
   "source": [
    "You can find more list methods on Google or <a ref =\"https://www.programiz.com/python-programming/methods/list\">here</a>. You are also encouraged to explore <a ref =\"https://www.programiz.com/python-programming/methods/dictionary\">dictionary methods</a>, <a ref =\"https://www.programiz.com/python-programming/methods/string\">string methods</a> etc."
   ]
  },
  {
   "cell_type": "code",
   "execution_count": 113,
   "metadata": {
    "scrolled": true
   },
   "outputs": [
    {
     "name": "stdout",
     "output_type": "stream",
     "text": [
      "keys = ['a', 'c', 'b']\n",
      "values = [1, 3, 2]\n",
      "items = [('a', 1), ('c', 3), ('b', 2)]\n"
     ]
    }
   ],
   "source": [
    "#dictionary methods\n",
    "my_dict = {\"a\":1, \"b\":2, \"c\":3}\n",
    "print \"keys =\", my_dict.keys()\n",
    "print \"values =\", my_dict.values()\n",
    "print \"items =\", my_dict.items()"
   ]
  },
  {
   "cell_type": "code",
   "execution_count": 114,
   "metadata": {
    "scrolled": true
   },
   "outputs": [
    {
     "name": "stdout",
     "output_type": "stream",
     "text": [
      "my_string.isalpha() = False\n",
      "my_string[:5].isalpha() = True\n",
      "my_string.lower() = hello world!\n",
      "my_string.find('H') = 0\n"
     ]
    }
   ],
   "source": [
    "#string methods\n",
    "my_string = \"Hello World!\"\n",
    "#Checks if All Characters are Alphabets\n",
    "print \"my_string.isalpha() =\", my_string.isalpha()\n",
    "print \"my_string[:5].isalpha() =\", my_string[:5].isalpha()\n",
    "#converts to lowercase\n",
    "print \"my_string.lower() =\", my_string.lower() #try upper()\n",
    "#\tReturns the Highest Index of Substring\n",
    "print \"my_string.find('H') =\", my_string.find('H')"
   ]
  },
  {
   "cell_type": "markdown",
   "metadata": {},
   "source": [
    "<div align=\"left\" id=\"functions_import\"> <a href=\"#functions\"> <font size=\"3\" color=\"black\"><b>Importing Functions</b></font> </a></div>\n",
    "There are multiple pre-built libraries from which you can import functions"
   ]
  },
  {
   "cell_type": "code",
   "execution_count": 115,
   "metadata": {
    "scrolled": true
   },
   "outputs": [
    {
     "name": "stdout",
     "output_type": "stream",
     "text": [
      "4.0\n"
     ]
    }
   ],
   "source": [
    "#Importing a library\n",
    "import math\n",
    "print math.sqrt(16)"
   ]
  },
  {
   "cell_type": "code",
   "execution_count": 116,
   "metadata": {
    "scrolled": true
   },
   "outputs": [
    {
     "name": "stdout",
     "output_type": "stream",
     "text": [
      "4.0\n"
     ]
    }
   ],
   "source": [
    "#Importing a particular function from a library\n",
    "from math import sqrt\n",
    "print sqrt(16) #No need to write math.sqrt"
   ]
  },
  {
   "cell_type": "code",
   "execution_count": 117,
   "metadata": {
    "scrolled": true
   },
   "outputs": [
    {
     "name": "stdout",
     "output_type": "stream",
     "text": [
      "4.0\n",
      "1.0\n"
     ]
    }
   ],
   "source": [
    "#Importing everything from a library\n",
    "from math import *\n",
    "print sqrt(16) #No need to write math.sqrt\n",
    "print sin(pi/2) #pi is defined inside \"math\" library"
   ]
  },
  {
   "cell_type": "code",
   "execution_count": 118,
   "metadata": {},
   "outputs": [],
   "source": [
    "#modules may have sub modules, in which case you can use dot (.)\n",
    "from sklearn.preprocessing import StandardScaler"
   ]
  },
  {
   "cell_type": "code",
   "execution_count": 119,
   "metadata": {
    "scrolled": true
   },
   "outputs": [
    {
     "name": "stdout",
     "output_type": "stream",
     "text": [
      "Help on built-in function sqrt in module math:\n",
      "\n",
      "sqrt(...)\n",
      "    sqrt(x)\n",
      "    \n",
      "    Return the square root of x.\n",
      "\n"
     ]
    }
   ],
   "source": [
    "#To get help on a fucntion or library you can use help() function\n",
    "help(math.sqrt)"
   ]
  },
  {
   "cell_type": "code",
   "execution_count": 120,
   "metadata": {
    "scrolled": true
   },
   "outputs": [
    {
     "name": "stdout",
     "output_type": "stream",
     "text": [
      "Help on built-in module math:\n",
      "\n",
      "NAME\n",
      "    math\n",
      "\n",
      "FILE\n",
      "    (built-in)\n",
      "\n",
      "DESCRIPTION\n",
      "    This module is always available.  It provides access to the\n",
      "    mathematical functions defined by the C standard.\n",
      "\n",
      "FUNCTIONS\n",
      "    acos(...)\n",
      "        acos(x)\n",
      "        \n",
      "        Return the arc cosine (measured in radians) of x.\n",
      "    \n",
      "    acosh(...)\n",
      "        acosh(x)\n",
      "        \n",
      "        Return the inverse hyperbolic cosine of x.\n",
      "    \n",
      "    asin(...)\n",
      "        asin(x)\n",
      "        \n",
      "        Return the arc sine (measured in radians) of x.\n",
      "    \n",
      "    asinh(...)\n",
      "        asinh(x)\n",
      "        \n",
      "        Return the inverse hyperbolic sine of x.\n",
      "    \n",
      "    atan(...)\n",
      "        atan(x)\n",
      "        \n",
      "        Return the arc tangent (measured in radians) of x.\n",
      "    \n",
      "    atan2(...)\n",
      "        atan2(y, x)\n",
      "        \n",
      "        Return the arc tangent (measured in radians) of y/x.\n",
      "        Unlike atan(y/x), the signs of both x and y are considered.\n",
      "    \n",
      "    atanh(...)\n",
      "        atanh(x)\n",
      "        \n",
      "        Return the inverse hyperbolic tangent of x.\n",
      "    \n",
      "    ceil(...)\n",
      "        ceil(x)\n",
      "        \n",
      "        Return the ceiling of x as a float.\n",
      "        This is the smallest integral value >= x.\n",
      "    \n",
      "    copysign(...)\n",
      "        copysign(x, y)\n",
      "        \n",
      "        Return x with the sign of y.\n",
      "    \n",
      "    cos(...)\n",
      "        cos(x)\n",
      "        \n",
      "        Return the cosine of x (measured in radians).\n",
      "    \n",
      "    cosh(...)\n",
      "        cosh(x)\n",
      "        \n",
      "        Return the hyperbolic cosine of x.\n",
      "    \n",
      "    degrees(...)\n",
      "        degrees(x)\n",
      "        \n",
      "        Convert angle x from radians to degrees.\n",
      "    \n",
      "    erf(...)\n",
      "        erf(x)\n",
      "        \n",
      "        Error function at x.\n",
      "    \n",
      "    erfc(...)\n",
      "        erfc(x)\n",
      "        \n",
      "        Complementary error function at x.\n",
      "    \n",
      "    exp(...)\n",
      "        exp(x)\n",
      "        \n",
      "        Return e raised to the power of x.\n",
      "    \n",
      "    expm1(...)\n",
      "        expm1(x)\n",
      "        \n",
      "        Return exp(x)-1.\n",
      "        This function avoids the loss of precision involved in the direct evaluation of exp(x)-1 for small x.\n",
      "    \n",
      "    fabs(...)\n",
      "        fabs(x)\n",
      "        \n",
      "        Return the absolute value of the float x.\n",
      "    \n",
      "    factorial(...)\n",
      "        factorial(x) -> Integral\n",
      "        \n",
      "        Find x!. Raise a ValueError if x is negative or non-integral.\n",
      "    \n",
      "    floor(...)\n",
      "        floor(x)\n",
      "        \n",
      "        Return the floor of x as a float.\n",
      "        This is the largest integral value <= x.\n",
      "    \n",
      "    fmod(...)\n",
      "        fmod(x, y)\n",
      "        \n",
      "        Return fmod(x, y), according to platform C.  x % y may differ.\n",
      "    \n",
      "    frexp(...)\n",
      "        frexp(x)\n",
      "        \n",
      "        Return the mantissa and exponent of x, as pair (m, e).\n",
      "        m is a float and e is an int, such that x = m * 2.**e.\n",
      "        If x is 0, m and e are both 0.  Else 0.5 <= abs(m) < 1.0.\n",
      "    \n",
      "    fsum(...)\n",
      "        fsum(iterable)\n",
      "        \n",
      "        Return an accurate floating point sum of values in the iterable.\n",
      "        Assumes IEEE-754 floating point arithmetic.\n",
      "    \n",
      "    gamma(...)\n",
      "        gamma(x)\n",
      "        \n",
      "        Gamma function at x.\n",
      "    \n",
      "    hypot(...)\n",
      "        hypot(x, y)\n",
      "        \n",
      "        Return the Euclidean distance, sqrt(x*x + y*y).\n",
      "    \n",
      "    isinf(...)\n",
      "        isinf(x) -> bool\n",
      "        \n",
      "        Check if float x is infinite (positive or negative).\n",
      "    \n",
      "    isnan(...)\n",
      "        isnan(x) -> bool\n",
      "        \n",
      "        Check if float x is not a number (NaN).\n",
      "    \n",
      "    ldexp(...)\n",
      "        ldexp(x, i)\n",
      "        \n",
      "        Return x * (2**i).\n",
      "    \n",
      "    lgamma(...)\n",
      "        lgamma(x)\n",
      "        \n",
      "        Natural logarithm of absolute value of Gamma function at x.\n",
      "    \n",
      "    log(...)\n",
      "        log(x[, base])\n",
      "        \n",
      "        Return the logarithm of x to the given base.\n",
      "        If the base not specified, returns the natural logarithm (base e) of x.\n",
      "    \n",
      "    log10(...)\n",
      "        log10(x)\n",
      "        \n",
      "        Return the base 10 logarithm of x.\n",
      "    \n",
      "    log1p(...)\n",
      "        log1p(x)\n",
      "        \n",
      "        Return the natural logarithm of 1+x (base e).\n",
      "        The result is computed in a way which is accurate for x near zero.\n",
      "    \n",
      "    modf(...)\n",
      "        modf(x)\n",
      "        \n",
      "        Return the fractional and integer parts of x.  Both results carry the sign\n",
      "        of x and are floats.\n",
      "    \n",
      "    pow(...)\n",
      "        pow(x, y)\n",
      "        \n",
      "        Return x**y (x to the power of y).\n",
      "    \n",
      "    radians(...)\n",
      "        radians(x)\n",
      "        \n",
      "        Convert angle x from degrees to radians.\n",
      "    \n",
      "    sin(...)\n",
      "        sin(x)\n",
      "        \n",
      "        Return the sine of x (measured in radians).\n",
      "    \n",
      "    sinh(...)\n",
      "        sinh(x)\n",
      "        \n",
      "        Return the hyperbolic sine of x.\n",
      "    \n",
      "    sqrt(...)\n",
      "        sqrt(x)\n",
      "        \n",
      "        Return the square root of x.\n",
      "    \n",
      "    tan(...)\n",
      "        tan(x)\n",
      "        \n",
      "        Return the tangent of x (measured in radians).\n",
      "    \n",
      "    tanh(...)\n",
      "        tanh(x)\n",
      "        \n",
      "        Return the hyperbolic tangent of x.\n",
      "    \n",
      "    trunc(...)\n",
      "        trunc(x:Real) -> Integral\n",
      "        \n",
      "        Truncates x to the nearest Integral toward 0. Uses the __trunc__ magic method.\n",
      "\n",
      "DATA\n",
      "    e = 2.718281828459045\n",
      "    pi = 3.141592653589793\n",
      "\n",
      "\n"
     ]
    }
   ],
   "source": [
    "help(math)"
   ]
  },
  {
   "cell_type": "code",
   "execution_count": 121,
   "metadata": {
    "scrolled": true
   },
   "outputs": [],
   "source": [
    "#To get all modules currently installed on your system.takes some time to run, you can uncomment and run\n",
    "#help(\"modules\")"
   ]
  },
  {
   "cell_type": "markdown",
   "metadata": {},
   "source": [
    "<div align=\"left\" id=\"functions_user\"><a href=\"#functions\"><font size=\"3\" color=\"black\"><b>User-defined Functions</b></font> </a></div>\n",
    "Python being a general purpose language allows users to define their own functions. This is also a strong reason to use Python as you can easily find libraries/modules(which is just a collection of functions) online which have been created by many Python programmers and can utilize them in your work.<br>\n",
    "A function can be defined using the keyword \"def\" like this:<br>\n",
    "\n",
    "<i>def my_function(your_parameters_here):\n",
    "    #do something\n",
    "    #return statement (it's optional though)\n",
    "my_function(your_parameters_here)</i><br>\n",
    "<div align=\"left\"> <font size=\"3\" color=\"black\"><b>Parameters vs Arguments</b></font> </div>\n",
    "A parameter is a variable in a method definition. When a method is called, the arguments are the data you pass into the method's parameters.\n",
    "Lets see some examples."
   ]
  },
  {
   "cell_type": "code",
   "execution_count": 122,
   "metadata": {},
   "outputs": [
    {
     "name": "stdout",
     "output_type": "stream",
     "text": [
      "bark! bark!\n"
     ]
    }
   ],
   "source": [
    "#A function without any parameters\n",
    "def bark():\n",
    "    print \"bark! bark!\"\n",
    "bark()"
   ]
  },
  {
   "cell_type": "code",
   "execution_count": 123,
   "metadata": {
    "scrolled": true
   },
   "outputs": [
    {
     "name": "stdout",
     "output_type": "stream",
     "text": [
      "a+b is 5\n"
     ]
    }
   ],
   "source": [
    "#A function which doesn't return anything\n",
    "def add(a,b):\n",
    "    print \"a+b is\", a+b\n",
    "#calling the function\n",
    "add(2,3) #2 and 3 are arguments to parameters a and b"
   ]
  },
  {
   "cell_type": "code",
   "execution_count": 124,
   "metadata": {
    "scrolled": true
   },
   "outputs": [
    {
     "data": {
      "text/plain": [
       "6"
      ]
     },
     "execution_count": 124,
     "metadata": {},
     "output_type": "execute_result"
    }
   ],
   "source": [
    "#A function which does return something\n",
    "def multiply(a,b):\n",
    "    return a*b\n",
    "multiply(2,3)"
   ]
  },
  {
   "cell_type": "code",
   "execution_count": 125,
   "metadata": {
    "scrolled": true
   },
   "outputs": [
    {
     "name": "stdout",
     "output_type": "stream",
     "text": [
      "divide() = 5\n",
      "divide(10) = 10\n",
      "divide(10,5) = 2\n"
     ]
    }
   ],
   "source": [
    "#A function with default parameters\n",
    "def divide(a=5, b=1):\n",
    "    return a/b\n",
    "print \"divide() =\",divide()\n",
    "print \"divide(10) =\",divide(10)\n",
    "print \"divide(10,5) =\",divide(10,5)"
   ]
  },
  {
   "cell_type": "markdown",
   "metadata": {},
   "source": [
    "<div align=\"left\" id=\"functions_scope\"><a href=\"#functions\"><font size=\"3\" color=\"black\"><b>Scope of Variables</b></font></a></div>"
   ]
  },
  {
   "cell_type": "markdown",
   "metadata": {},
   "source": [
    "Python employs the following scoping hierarchy, in decreasing order of breadth: \n",
    "<ol type=\"square\">\n",
    "    <li><b>Built-in (Python)</b> : Predefined names (len, open, execfile, etc.) and types</li>\n",
    "    <li><b>Global (module)</b> : Names assigned at the top level of a module, or directly in the interpreter</li>\n",
    "    <li><b>Local (function)</b> : Names assigned inside a function definition or loop</li>\n",
    "</ol>\n",
    "Local variables are only accessible inside the module/function where they were first defined. You can declare  variables to be \"global\" inside a function, in which case you can access them from outside too.\n",
    "<br>Global variables can be accessed from anywhere, even when you are inside a function\n",
    "\n"
   ]
  },
  {
   "cell_type": "code",
   "execution_count": 126,
   "metadata": {},
   "outputs": [
    {
     "name": "stdout",
     "output_type": "stream",
     "text": [
      "#####  Inside function  #####\n",
      "1\n",
      "Error printing f_local_variable \n",
      "4\n",
      "Error printing f_declared_global_variable\n",
      "5\n",
      "#####  Outside function  #####\n",
      "1\n",
      "Error printing f_local_variable \n",
      "Error printing g_local_variable \n",
      "Error printing f_declared_global_variable\n",
      "5\n"
     ]
    }
   ],
   "source": [
    "global_variable = 1 #You can access this anywhere \n",
    "def f(x):\n",
    "    f_local_variable = 2 #You can access this only inside f(x)\n",
    "    global f_declared_global_variable\n",
    "    f_declared_global_variable = 3 #You can access this anywhere because we declared it global\n",
    "    \n",
    "def g(x):\n",
    "    print \"#####  Inside function  #####\"\n",
    "    g_local_variable = 4 #You can access this only inside g(x)\n",
    "    global g_declared_global_variable\n",
    "    g_declared_global_variable = 5 #You can access this anywhere because we declared it global\n",
    "    try:\n",
    "        print global_variable\n",
    "    except NameError:\n",
    "        print \"Error printing global_variable \"\n",
    "    try:\n",
    "        print f_local_variable\n",
    "    except NameError:\n",
    "        print \"Error printing f_local_variable \"\n",
    "    try:\n",
    "        print g_local_variable\n",
    "    except NameError:\n",
    "        print \"Error printing g_local_variable \"\n",
    "    try:\n",
    "        print f_declared_global_variable\n",
    "    except NameError:\n",
    "        print \"Error printing f_declared_global_variable\"\n",
    "    try:\n",
    "        print g_declared_global_variable\n",
    "    except NameError:\n",
    "        print \"Error printing g_declared_global_variable\"\n",
    "g(x)\n",
    "\n",
    "print \"#####  Outside function  #####\"\n",
    "\n",
    "try:\n",
    "    print global_variable\n",
    "except NameError:\n",
    "    print \"Error printing global_variable \"\n",
    "try:\n",
    "    print f_local_variable\n",
    "except NameError:\n",
    "    print \"Error printing f_local_variable \"\n",
    "try:\n",
    "    print g_local_variable\n",
    "except NameError:\n",
    "    print \"Error printing g_local_variable \"\n",
    "try:\n",
    "    print f_declared_global_variable\n",
    "except NameError:\n",
    "    print \"Error printing f_declared_global_variable\"\n",
    "try:\n",
    "    print g_declared_global_variable\n",
    "except NameError:\n",
    "    print \"Error printing g_declared_global_variable\""
   ]
  },
  {
   "cell_type": "code",
   "execution_count": 127,
   "metadata": {},
   "outputs": [
    {
     "name": "stdout",
     "output_type": "stream",
     "text": [
      "120\n"
     ]
    }
   ],
   "source": [
    "#An example of recursive function\n",
    "def factorial(n):\n",
    "    if n==1: return n\n",
    "    else: return n*factorial(n-1)\n",
    "print factorial(5)"
   ]
  },
  {
   "cell_type": "code",
   "execution_count": 128,
   "metadata": {},
   "outputs": [
    {
     "name": "stdout",
     "output_type": "stream",
     "text": [
      "(2, 3)\n"
     ]
    }
   ],
   "source": [
    "#returning multiple outputs\n",
    "def multiple_outputs(x,y):\n",
    "    return x+1, y+1\n",
    "print multiple_outputs(1,2) #returns a tuple"
   ]
  },
  {
   "cell_type": "markdown",
   "metadata": {},
   "source": [
    "Why did it give \"Error printing f_declared_global_variable\"? Shoudn't it have printed a global variable?<br>\n",
    "\n",
    "\n",
    "\n",
    "\n",
    "\n",
    "<div align=\"right\">\n",
    "<a href=\"#createvar\" class=\"btn btn-default\" data-toggle=\"collapse\">Click here for the solution</a>\n",
    "</div>\n",
    "<div id=\"createvar\" class=\"collapse\">\n",
    "```\n",
    "It is because f() never ran(we didn't call it) and hence the variables inside f(x) were not assigned.\n",
    "```\n",
    "</div>\n",
    "\n"
   ]
  },
  {
   "cell_type": "markdown",
   "metadata": {},
   "source": [
    "<div align=\"left\" id=\"functions_lambda\"><a href=\"#functions\"><font size=\"3\" color=\"black\"><b>Lambda, Map, Reduce, and Filter</b></font></a></div>\n",
    "<b>lambda</b> operator or lambda function is used for creating small, one-time and anonymous function objects in Python. lambda operator can have any number of arguments, but it can have only one expression. It cannot contain any statements and it returns a function object which can be assigned to any variable. The syntax is as below <br>\n",
    "<i>    lambda arguments : expression</i>"
   ]
  },
  {
   "cell_type": "code",
   "execution_count": 129,
   "metadata": {
    "scrolled": true
   },
   "outputs": [
    {
     "name": "stdout",
     "output_type": "stream",
     "text": [
      "With defined function  5\n",
      "With lambda  5\n"
     ]
    }
   ],
   "source": [
    "#lambda operator or lambda function is used for creating small, one-time and anonymous function objects in Python\n",
    "def add(x, y): \n",
    "    return x + y\n",
    "  \n",
    "# Call the function\n",
    "print \"With defined function \",add(2, 3) \n",
    "\n",
    "#Equivalent lambda\n",
    "add = lambda x, y : x + y \n",
    "print \"With lambda \",add(2, 3) "
   ]
  },
  {
   "cell_type": "markdown",
   "metadata": {},
   "source": [
    "<b>map</b> functions expects a function object and any number of iterables like list, dictionary, etc. It executes the function_object for each element in the sequence and returns a list of the elements modified by the function object."
   ]
  },
  {
   "cell_type": "code",
   "execution_count": 130,
   "metadata": {
    "scrolled": true
   },
   "outputs": [
    {
     "name": "stdout",
     "output_type": "stream",
     "text": [
      "With defined function  [2, 4, 6, 8]\n",
      "With lambda  [2, 4, 6, 8]\n"
     ]
    }
   ],
   "source": [
    "#map functions expects a function object and any number of iterables like list, dictionary, etc. \n",
    "#It executes the function_object for each element in the sequence and \n",
    "#returns a list of the elements modified by the function object.\n",
    "\n",
    "def multiply2(x):\n",
    "  return x * 2\n",
    "print \"With defined function \",map(multiply2, [1, 2, 3, 4]) \n",
    "\n",
    "print \"With lambda \",map(lambda x : x*2, [1, 2, 3, 4]) "
   ]
  },
  {
   "cell_type": "code",
   "execution_count": 131,
   "metadata": {
    "scrolled": true
   },
   "outputs": [
    {
     "name": "stdout",
     "output_type": "stream",
     "text": [
      "Example 1: ['python', 'java']\n",
      "Example 2: [100, 80]\n",
      "Example 3: [True, False]\n"
     ]
    }
   ],
   "source": [
    "#list of two dictionaries\n",
    "dict_a = [{'name': 'python', 'points': 10}, {'name': 'java', 'points': 8}]\n",
    "print \"Example 1:\", map(lambda x : x['name'], dict_a)\n",
    "print \"Example 2:\", map(lambda x : x['points']*10,  dict_a) \n",
    "print \"Example 3:\", map(lambda x : x['name'] == \"python\", dict_a)"
   ]
  },
  {
   "cell_type": "code",
   "execution_count": 132,
   "metadata": {
    "scrolled": true
   },
   "outputs": [
    {
     "name": "stdout",
     "output_type": "stream",
     "text": [
      "[11, 22, 33]\n"
     ]
    }
   ],
   "source": [
    "#We can pass multiple sequences to the map functions\n",
    "list_a = [1, 2, 3]\n",
    "list_b = [10, 20, 30]\n",
    "print map(lambda x, y: x + y, list_a, list_b) "
   ]
  },
  {
   "cell_type": "markdown",
   "metadata": {},
   "source": [
    "<b>filter</b> function expects two arguments, function_object and an iterable. function_object returns a boolean value. function_object is called for each element of the iterable and filter returns only those element for which the function_object returns true.\n",
    "\n",
    "Like map function, filter function also returns a list of element. Unlike map function filter function can only have one iterable as input. Syntax is like this :\n",
    "<i>filter(function_object, iterable)</i>"
   ]
  },
  {
   "cell_type": "code",
   "execution_count": 133,
   "metadata": {
    "scrolled": true
   },
   "outputs": [
    {
     "name": "stdout",
     "output_type": "stream",
     "text": [
      "[2, 4, 6]\n"
     ]
    }
   ],
   "source": [
    "#filter function expects two arguments, function_object and an iterable. \n",
    "#function_object returns a boolean value. \n",
    "#function_object is called for each element of the iterable and \n",
    "# filter returns only those element for which the function_object returns true\n",
    "a = [1, 2, 3, 4, 5, 6]\n",
    "print filter(lambda x : x % 2 == 0, a) "
   ]
  },
  {
   "cell_type": "code",
   "execution_count": 134,
   "metadata": {
    "scrolled": true
   },
   "outputs": [
    {
     "name": "stdout",
     "output_type": "stream",
     "text": [
      "[{'points': 10, 'name': 'python'}]\n"
     ]
    }
   ],
   "source": [
    "dict_a = [{'name': 'python', 'points': 10}, {'name': 'java', 'points': 8}]\n",
    "print filter(lambda x : x['name'] == 'python', dict_a) "
   ]
  },
  {
   "cell_type": "markdown",
   "metadata": {},
   "source": [
    "The function <b>reduce</b>(func, seq) continually applies the function func() to the sequence seq. It returns a single value."
   ]
  },
  {
   "cell_type": "code",
   "execution_count": 135,
   "metadata": {
    "scrolled": true
   },
   "outputs": [
    {
     "name": "stdout",
     "output_type": "stream",
     "text": [
      "113\n"
     ]
    }
   ],
   "source": [
    "#The function reduce(func, seq) continually applies the function func() to the sequence seq. It returns a single value.\n",
    "print reduce(lambda x,y: x+y, [47,11,42,13])"
   ]
  },
  {
   "cell_type": "code",
   "execution_count": 136,
   "metadata": {
    "scrolled": true
   },
   "outputs": [
    {
     "name": "stdout",
     "output_type": "stream",
     "text": [
      "5050\n"
     ]
    }
   ],
   "source": [
    "#Calculating the sum of the numbers from 1 to 100\n",
    "print reduce(lambda x, y: x+y, range(1,101))"
   ]
  },
  {
   "cell_type": "code",
   "execution_count": 137,
   "metadata": {
    "scrolled": true
   },
   "outputs": [
    {
     "data": {
      "text/plain": [
       "102"
      ]
     },
     "execution_count": 137,
     "metadata": {},
     "output_type": "execute_result"
    }
   ],
   "source": [
    "#Determining the maximum of a list of numerical values by using reduce\n",
    "reduce(lambda a,b: a if (a > b) else b, [47,11,42,102,13])"
   ]
  },
  {
   "cell_type": "markdown",
   "metadata": {},
   "source": [
    "<div align=\"left\" id=\"functions_list\"><a href=\"#functions\"><font size=\"3\" color=\"black\"><b>List Comprehension</b></font></a> </div>\n",
    "List comprehension is an elegant way to define and create list in Python"
   ]
  },
  {
   "cell_type": "code",
   "execution_count": 138,
   "metadata": {
    "scrolled": true
   },
   "outputs": [
    {
     "name": "stdout",
     "output_type": "stream",
     "text": [
      "[1.0, 4.0, 9.0, 16.0]\n"
     ]
    }
   ],
   "source": [
    "#We can use list comprehensions for nice maps and filters\n",
    "print [pow(i,2) for i in [1, 2, 3, 4]]"
   ]
  },
  {
   "cell_type": "code",
   "execution_count": 139,
   "metadata": {
    "scrolled": true
   },
   "outputs": [
    {
     "name": "stdout",
     "output_type": "stream",
     "text": [
      "[4.0, 16.0]\n"
     ]
    }
   ],
   "source": [
    "#We can use conditionals too\n",
    "print [pow(i,2) for i in [1, 2, 3, 4] if i%2 == 0]"
   ]
  },
  {
   "cell_type": "code",
   "execution_count": 140,
   "metadata": {
    "scrolled": true
   },
   "outputs": [
    {
     "name": "stdout",
     "output_type": "stream",
     "text": [
      "[10.0, 4.0, 30.0, 16.0]\n"
     ]
    }
   ],
   "source": [
    "#if-else is allowed too\n",
    "print [pow(i,2) if i%2 == 0 else i*10.0 for i in [1, 2, 3, 4]]"
   ]
  },
  {
   "cell_type": "code",
   "execution_count": 141,
   "metadata": {
    "scrolled": true
   },
   "outputs": [
    {
     "name": "stdout",
     "output_type": "stream",
     "text": [
      "set(['a', 'c', 'b'])\n",
      "{0: 0, 1: 1, 2: 4, 3: 9, 4: 16}\n"
     ]
    }
   ],
   "source": [
    "# You can construct set and dict comprehensions as well.\n",
    "print {x for x in 'abcddeef' if x in 'abc'}  \n",
    "print {x: x ** 2 for x in range(5)}"
   ]
  },
  {
   "cell_type": "markdown",
   "metadata": {},
   "source": [
    "<div align=\"left\" id=\"classes\"><a href=\"#contents\"><font size=\"4\" color=\"red\"><b>CLASSES</b></font></a></div>"
   ]
  },
  {
   "cell_type": "markdown",
   "metadata": {},
   "source": [
    "Python is an “object-oriented programming language.” This means that almost all the code is implemented using a special construct called classes. Programmers use classes to keep related things together.\n"
   ]
  },
  {
   "cell_type": "markdown",
   "metadata": {},
   "source": [
    "\n",
    "<div align=\"left\"> <font size=\"3\" color=\"black\"><b>What is a class?</b></font> </div>\n",
    "A class is a code template for creating objects. Objects have member variables and have behaviour associated with them. In python a class is created by the keyword class.\n",
    "\n",
    "An object is created using the <i>constructor</i> of the class. This object will then be called the <i>instance</i> of the class. In Python we create instances in the following manner<br>\n",
    "<i>Instance = class(arguments)</i>"
   ]
  },
  {
   "cell_type": "markdown",
   "metadata": {},
   "source": [
    "<div align=\"left\"> <font size=\"3\" color=\"black\"><b>How to create a class?</b></font> </div>\n",
    "The simplest class can be created using the class keyword. For example, let's create a simple, empty class with no functionalities."
   ]
  },
  {
   "cell_type": "code",
   "execution_count": 142,
   "metadata": {
    "scrolled": true
   },
   "outputs": [
    {
     "name": "stdout",
     "output_type": "stream",
     "text": [
      "<__main__.Snake instance at 0x0000000008C95E88>\n"
     ]
    }
   ],
   "source": [
    "class Snake:\n",
    "        pass\n",
    "snake = Snake()\n",
    "print snake"
   ]
  },
  {
   "cell_type": "markdown",
   "metadata": {},
   "source": [
    "<div align=\"left\"> <font size=\"3\" color=\"black\"><b>Attributes and Methods in class</b></font> </div>\n",
    "A class by itself is of no use unless there is some functionality associated with it. Functionalities are defined by setting attributes, which act as containers for data and functions related to those attributes. Those functions are called methods.<br><br>\n",
    "<b>Attributes:</b><br>\n",
    "You can define the following class with the name Snake. This class will have an attribute <i>name</i>. You can assign the class to a variable. This is called <i>object instantiation</i>. You will then be able to access the attributes that are present inside the class using the dot (.) operator. For example, in the Snake example, you can access the attribute name of the class Snake."
   ]
  },
  {
   "cell_type": "code",
   "execution_count": 143,
   "metadata": {
    "scrolled": true
   },
   "outputs": [
    {
     "name": "stdout",
     "output_type": "stream",
     "text": [
      "python\n"
     ]
    }
   ],
   "source": [
    "class Snake:\n",
    "    name = \"python\"\n",
    "snake = Snake()\n",
    "print snake.name"
   ]
  },
  {
   "cell_type": "markdown",
   "metadata": {},
   "source": [
    "<b>Methods</b><br>\n",
    "Once there are attributes that \"belong\" to the class, you can define functions that will access the class attribute. These functions are called <i>methods</i>. When you define methods, you will need to always provide the first argument to the method with a self keyword.\n",
    "\n",
    "For example, you can define a class Snake, which has one attribute name and one method change_name. The method change name will take in an argument new_name along with the keyword self."
   ]
  },
  {
   "cell_type": "code",
   "execution_count": 144,
   "metadata": {
    "scrolled": true
   },
   "outputs": [
    {
     "name": "stdout",
     "output_type": "stream",
     "text": [
      "Current Name:  python\n",
      "Current Name:  anaconda\n"
     ]
    }
   ],
   "source": [
    "class Snake:\n",
    "    name = \"python\"\n",
    "    \n",
    "    def change_name(self, new_name): # note that the first argument is self\n",
    "        self.name = new_name # access the class attribute with the self keyword\n",
    "# instantiate the class\n",
    "snake = Snake()\n",
    "\n",
    "# print the current object name \n",
    "print \"Current Name: \", snake.name\n",
    "\n",
    "# change the name using the change_name method\n",
    "snake.change_name(\"anaconda\")\n",
    "print \"Current Name: \", snake.name"
   ]
  },
  {
   "cell_type": "markdown",
   "metadata": {},
   "source": [
    "<b>Instance attributes in python and the init method</b><br>\n",
    "You can also provide the values for the attributes at runtime. This is done by defining the attributes inside the init method. The following example illustrates this."
   ]
  },
  {
   "cell_type": "code",
   "execution_count": 145,
   "metadata": {
    "scrolled": true
   },
   "outputs": [
    {
     "name": "stdout",
     "output_type": "stream",
     "text": [
      "First name : python\n",
      "Second name : anaconda\n"
     ]
    }
   ],
   "source": [
    "class Snake:\n",
    "\n",
    "    def __init__(self, name):\n",
    "        self.name = name\n",
    "\n",
    "    def change_name(self, new_name):\n",
    "        self.name = new_name\n",
    "# two variables are instantiated\n",
    "python = Snake(\"python\")\n",
    "anaconda = Snake(\"anaconda\")\n",
    "\n",
    "# print the names of the two variables\n",
    "print \"First name :\",python.name\n",
    "print \"Second name :\",anaconda.name\n"
   ]
  },
  {
   "cell_type": "markdown",
   "metadata": {},
   "source": [
    "A little advanced example"
   ]
  },
  {
   "cell_type": "code",
   "execution_count": 146,
   "metadata": {
    "collapsed": true,
    "scrolled": true
   },
   "outputs": [],
   "source": [
    "# We subclass from object to get a class.\n",
    "class Human(object):\n",
    "    # A class attribute. It is shared by all instances of this class\n",
    "    species = \"H. sapiens\"\n",
    "\n",
    "    # Basic initializer, this is called when this class is instantiated.\n",
    "    # Note that the double leading and trailing underscores denote objects\n",
    "    # or attributes that are used by python but that live in user-controlled\n",
    "    # namespaces. You should not invent such names on your own.\n",
    "    def __init__(self, name):\n",
    "        # Assign the argument to the instance's name attribute\n",
    "        self.name = name\n",
    "\n",
    "        # Initialize property\n",
    "        self.age = 0\n",
    "\n",
    "    # An instance method. All methods take \"self\" as the first argument\n",
    "    def say(self, msg):\n",
    "        return \"{0}: {1}\".format(self.name, msg)\n",
    "\n",
    "    # A class method is shared among all instances\n",
    "    # They are called with the calling class as the first argument\n",
    "    @classmethod\n",
    "    def get_species(cls):\n",
    "        return cls.species\n",
    "\n",
    "    # A static method is called without a class or instance reference\n",
    "    @staticmethod\n",
    "    def grunt():\n",
    "        return \"*grunt*\"\n",
    "\n",
    "    # A property is just like a getter.\n",
    "    # It turns the method age() into an read-only attribute\n",
    "    # of the same name.\n",
    "    @property\n",
    "    def age(self):\n",
    "        return self._age\n",
    "\n",
    "    # This allows the property to be set\n",
    "    @age.setter\n",
    "    def age(self, age):\n",
    "        self._age = age\n",
    "\n",
    "    # This allows the property to be deleted\n",
    "    @age.deleter\n",
    "    def age(self):\n",
    "        del self._age"
   ]
  },
  {
   "cell_type": "code",
   "execution_count": 147,
   "metadata": {
    "scrolled": true
   },
   "outputs": [
    {
     "name": "stdout",
     "output_type": "stream",
     "text": [
      "Ian: hi\n"
     ]
    }
   ],
   "source": [
    "# Instantiate a class\n",
    "i = Human(name=\"Ian\")\n",
    "print i.say(\"hi\") "
   ]
  },
  {
   "cell_type": "code",
   "execution_count": 148,
   "metadata": {
    "scrolled": true
   },
   "outputs": [
    {
     "name": "stdout",
     "output_type": "stream",
     "text": [
      "Joel: hello\n"
     ]
    }
   ],
   "source": [
    "j = Human(\"Joel\")\n",
    "print j.say(\"hello\")"
   ]
  },
  {
   "cell_type": "code",
   "execution_count": 149,
   "metadata": {
    "scrolled": true
   },
   "outputs": [
    {
     "data": {
      "text/plain": [
       "'H. sapiens'"
      ]
     },
     "execution_count": 149,
     "metadata": {},
     "output_type": "execute_result"
    }
   ],
   "source": [
    "# Call our class method\n",
    "i.get_species()"
   ]
  },
  {
   "cell_type": "code",
   "execution_count": 150,
   "metadata": {
    "scrolled": true
   },
   "outputs": [
    {
     "name": "stdout",
     "output_type": "stream",
     "text": [
      "H. neanderthalensis\n",
      "H. neanderthalensis\n"
     ]
    }
   ],
   "source": [
    "# Change the shared attribute\n",
    "Human.species = \"H. neanderthalensis\"\n",
    "print i.get_species()  \n",
    "print j.get_species()  "
   ]
  },
  {
   "cell_type": "code",
   "execution_count": 151,
   "metadata": {
    "scrolled": true
   },
   "outputs": [
    {
     "data": {
      "text/plain": [
       "'*grunt*'"
      ]
     },
     "execution_count": 151,
     "metadata": {},
     "output_type": "execute_result"
    }
   ],
   "source": [
    "# Call the static method\n",
    "Human.grunt() "
   ]
  },
  {
   "cell_type": "code",
   "execution_count": 152,
   "metadata": {
    "scrolled": true
   },
   "outputs": [
    {
     "name": "stdout",
     "output_type": "stream",
     "text": [
      "Before Updating : 0\n",
      "After Updating : 42\n"
     ]
    }
   ],
   "source": [
    "print \"Before Updating :\", i.age  \n",
    "# Update the property\n",
    "i.age = 42\n",
    "\n",
    "# Get the property\n",
    "print \"After Updating :\", i.age  "
   ]
  },
  {
   "cell_type": "code",
   "execution_count": 153,
   "metadata": {
    "scrolled": true
   },
   "outputs": [
    {
     "ename": "AttributeError",
     "evalue": "'Human' object has no attribute '_age'",
     "output_type": "error",
     "traceback": [
      "\u001b[0;31m---------------------------------------------------------------------------\u001b[0m",
      "\u001b[0;31mAttributeError\u001b[0m                            Traceback (most recent call last)",
      "\u001b[0;32m<ipython-input-153-4b148d885827>\u001b[0m in \u001b[0;36m<module>\u001b[0;34m()\u001b[0m\n\u001b[1;32m      1\u001b[0m \u001b[1;31m# Delete the property\u001b[0m\u001b[1;33m\u001b[0m\u001b[1;33m\u001b[0m\u001b[0m\n\u001b[1;32m      2\u001b[0m \u001b[1;32mdel\u001b[0m \u001b[0mi\u001b[0m\u001b[1;33m.\u001b[0m\u001b[0mage\u001b[0m\u001b[1;33m\u001b[0m\u001b[0m\n\u001b[0;32m----> 3\u001b[0;31m \u001b[0mi\u001b[0m\u001b[1;33m.\u001b[0m\u001b[0mage\u001b[0m\u001b[1;33m\u001b[0m\u001b[0m\n\u001b[0m",
      "\u001b[0;32m<ipython-input-146-7ae8343de305>\u001b[0m in \u001b[0;36mage\u001b[0;34m(self)\u001b[0m\n\u001b[1;32m     35\u001b[0m     \u001b[1;33m@\u001b[0m\u001b[0mproperty\u001b[0m\u001b[1;33m\u001b[0m\u001b[0m\n\u001b[1;32m     36\u001b[0m     \u001b[1;32mdef\u001b[0m \u001b[0mage\u001b[0m\u001b[1;33m(\u001b[0m\u001b[0mself\u001b[0m\u001b[1;33m)\u001b[0m\u001b[1;33m:\u001b[0m\u001b[1;33m\u001b[0m\u001b[0m\n\u001b[0;32m---> 37\u001b[0;31m         \u001b[1;32mreturn\u001b[0m \u001b[0mself\u001b[0m\u001b[1;33m.\u001b[0m\u001b[0m_age\u001b[0m\u001b[1;33m\u001b[0m\u001b[0m\n\u001b[0m\u001b[1;32m     38\u001b[0m \u001b[1;33m\u001b[0m\u001b[0m\n\u001b[1;32m     39\u001b[0m     \u001b[1;31m# This allows the property to be set\u001b[0m\u001b[1;33m\u001b[0m\u001b[1;33m\u001b[0m\u001b[0m\n",
      "\u001b[0;31mAttributeError\u001b[0m: 'Human' object has no attribute '_age'"
     ]
    }
   ],
   "source": [
    "# Delete the property\n",
    "del i.age\n",
    "i.age"
   ]
  },
  {
   "cell_type": "markdown",
   "metadata": {},
   "source": [
    "<div align=\"left\" id=\"fileio\"><a href=\"#contents\"><font size=\"4\" color=\"red\"><b>FILE I/O</b></font></a></div>"
   ]
  },
  {
   "cell_type": "markdown",
   "metadata": {},
   "source": [
    "You can read-write data with Python to a file on your disk<br><br>\n",
    "<b>How to open a file?</b><br>\n",
    "Python has a built-in function <b>open()</b> to open a file. This function returns a file object, also called a handle, as it is used to read or modify the file accordingly. open() works like this:<br>\n",
    "<i>open(file_location_here, mode_here)</i>"
   ]
  },
  {
   "cell_type": "code",
   "execution_count": 154,
   "metadata": {
    "scrolled": true
   },
   "outputs": [
    {
     "name": "stdout",
     "output_type": "stream",
     "text": [
      "Before changing:  C:\\Users\\ua38707\n",
      "After changing:  G:\\INBLRCB_GDMCOMMON\\Python\n"
     ]
    }
   ],
   "source": [
    "#Setting the working directory\n",
    "import os\n",
    "print \"Before changing: \", os.getcwd()\n",
    "\n",
    "#You can either convert all backword slashes to forward slashes or just use \"r\" before the path\n",
    "os.chdir(r\"G:\\INBLRCB_GDMCOMMON\\Python\")\n",
    "\n",
    "print \"After changing: \", os.getcwd()"
   ]
  },
  {
   "cell_type": "code",
   "execution_count": 155,
   "metadata": {
    "collapsed": true,
    "scrolled": true
   },
   "outputs": [],
   "source": [
    "#opening in write mode\n",
    "test = open(\"test.txt\",\"w\")    # open file in current directory\n",
    "test2 = open(r\"G:\\INBLRCB_GDMCOMMON\\Python\\test2.txt\",\"w\")  # specifying full path\n",
    "#Google for full lists of file opening modes"
   ]
  },
  {
   "cell_type": "markdown",
   "metadata": {},
   "source": [
    "All different type of modes are listed <a href=\"https://stackoverflow.com/a/23566951\">here</a>"
   ]
  },
  {
   "cell_type": "markdown",
   "metadata": {},
   "source": [
    "<b>How to write to a file?</b><br>\n",
    "Python has a built-in method <b>write()</b> to write to a file. write() works like this:<br>\n",
    "<i>filehandle.write(string_to_write)</i>"
   ]
  },
  {
   "cell_type": "code",
   "execution_count": 156,
   "metadata": {
    "collapsed": true,
    "scrolled": true
   },
   "outputs": [],
   "source": [
    "#method write() writes to the file handle\n",
    "test.write(\"This is the first line.\\n\")\n",
    "test.write(\"This is the second line.\")"
   ]
  },
  {
   "cell_type": "markdown",
   "metadata": {},
   "source": [
    "Remember to close the file after the use"
   ]
  },
  {
   "cell_type": "code",
   "execution_count": 157,
   "metadata": {
    "scrolled": true
   },
   "outputs": [],
   "source": [
    "#You must close the file after use of it stays in the memory\n",
    "test.close()"
   ]
  },
  {
   "cell_type": "markdown",
   "metadata": {},
   "source": [
    "<b>How to read a file?</b><br>\n",
    "You have three options after opening the file in read mode:<br>\n",
    "<ul>\n",
    "    <li>read(n) : Read atmost n characters form the file. Reads till end of file if it is negative or None.</li>\n",
    "    <li>readline(n=-1) : Read and return one line from the file. Reads in at most n bytes if specified.</li>\n",
    "    <li>readlines(n=-1) : Read and return a list of lines from the file. Reads in at most n bytes/characters if specified.</li>\n",
    "</ul>"
   ]
  },
  {
   "cell_type": "code",
   "execution_count": 158,
   "metadata": {
    "scrolled": true
   },
   "outputs": [
    {
     "name": "stdout",
     "output_type": "stream",
     "text": [
      "This is the first line.\n",
      "This is the second line.\n"
     ]
    }
   ],
   "source": [
    "#read(n) reads all the lines into a string\n",
    "test = open(\"test.txt\",\"r\") \n",
    "print test.read()"
   ]
  },
  {
   "cell_type": "code",
   "execution_count": 159,
   "metadata": {
    "scrolled": true
   },
   "outputs": [
    {
     "name": "stdout",
     "output_type": "stream",
     "text": [
      "[]\n"
     ]
    }
   ],
   "source": [
    "#Once the file is read, the cursor moves to the final location and you cannot read anything more\n",
    "print test.readlines()\n",
    "test.close()"
   ]
  },
  {
   "cell_type": "code",
   "execution_count": 160,
   "metadata": {
    "scrolled": true
   },
   "outputs": [
    {
     "name": "stdout",
     "output_type": "stream",
     "text": [
      "['This is the first line.\\n', 'This is the second line.']\n"
     ]
    }
   ],
   "source": [
    "#readlines() all the lines in a list of lines\n",
    "test = open(\"test.txt\",\"r\") \n",
    "print test.readlines()\n",
    "test.close()"
   ]
  },
  {
   "cell_type": "markdown",
   "metadata": {},
   "source": [
    "<b>I don't like closing files all the time</b><br>\n",
    "You can use \"with\" keyword"
   ]
  },
  {
   "cell_type": "code",
   "execution_count": 161,
   "metadata": {
    "scrolled": true
   },
   "outputs": [
    {
     "name": "stdout",
     "output_type": "stream",
     "text": [
      "0\n",
      "1\n",
      "2\n",
      "3\n",
      "4\n"
     ]
    }
   ],
   "source": [
    "#Using \"with\" keyword you don't need to close the files manually\n",
    "with open(\"test2.txt\",\"w\") as test2:\n",
    "    for i in range(5):\n",
    "        test2.write(str(i)+'\\n')\n",
    "with open(\"test2.txt\",\"r\") as test2:\n",
    "    for line in test2.readlines():\n",
    "        print(line.strip())"
   ]
  },
  {
   "cell_type": "markdown",
   "metadata": {},
   "source": [
    "<font size = 10 color=\"green\">\"</font><br>\n",
    "<div align = center> \n",
    "    <font size = 5 color=\"green\" style=\"font-family: 'Comic Sans MS'\">Pass on what you have learned</font><br>\n",
    "</div>\n",
    "<div align = right> \n",
    "    <font size = 10 color=\"green\"t>\"</font><br>\n",
    "</div>\n",
    "<img align = \"right\" src = \"https://orig00.deviantart.net/ff5e/f/2013/102/4/4/yoda_by_valval-d61g9rh.png\" width=\"20%\" height=\"20%\">"
   ]
  }
 ],
 "metadata": {
  "kernelspec": {
   "display_name": "Python 2",
   "language": "python",
   "name": "python2"
  },
  "language_info": {
   "codemirror_mode": {
    "name": "ipython",
    "version": 2
   },
   "file_extension": ".py",
   "mimetype": "text/x-python",
   "name": "python",
   "nbconvert_exporter": "python",
   "pygments_lexer": "ipython2",
   "version": "2.7.15"
  }
 },
 "nbformat": 4,
 "nbformat_minor": 2
}
